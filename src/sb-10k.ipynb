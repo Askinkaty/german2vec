{
 "cells": [
  {
   "cell_type": "code",
   "execution_count": null,
   "metadata": {},
   "outputs": [],
   "source": [
    "import json\n",
    "import pathlib\n",
    "\n",
    "from fastai.text import *\n",
    "\n",
    "import numpy as np\n",
    "import pandas as pd"
   ]
  },
  {
   "cell_type": "code",
   "execution_count": null,
   "metadata": {},
   "outputs": [],
   "source": [
    "import spacy\n",
    "spacy.load('de')"
   ]
  },
  {
   "cell_type": "markdown",
   "metadata": {},
   "source": [
    "# Data Preparation"
   ]
  },
  {
   "cell_type": "code",
   "execution_count": null,
   "metadata": {},
   "outputs": [],
   "source": [
    "BOS = 'xbos'  # beginning-of-sentence tag\n",
    "FLD = 'xfld'  # data field tag\n",
    "\n",
    "PATH = pathlib.Path(\"lm/german/data/\")"
   ]
  },
  {
   "cell_type": "code",
   "execution_count": null,
   "metadata": {},
   "outputs": [],
   "source": [
    "LM_PATH=Path('lm/german/german_lm/')\n",
    "LM_PATH.mkdir(exist_ok=True)"
   ]
  },
  {
   "cell_type": "code",
   "execution_count": null,
   "metadata": {},
   "outputs": [],
   "source": [
    "# preprocess wikipedia files (prepare_wikipedia.sh)"
   ]
  },
  {
   "cell_type": "code",
   "execution_count": null,
   "metadata": {},
   "outputs": [],
   "source": [
    "LANG_FILENAMES = [str(f) for f in PATH.rglob(\"*/*\")]\n",
    "print(len(LANG_FILENAMES))\n",
    "LANG_FILENAMES[0:5]"
   ]
  },
  {
   "cell_type": "code",
   "execution_count": null,
   "metadata": {},
   "outputs": [],
   "source": [
    "LANG_TEXT = []\n",
    "for i in LANG_FILENAMES:\n",
    "    for line in open(i):\n",
    "        LANG_TEXT.append(json.loads(line))\n",
    "        \n",
    "LANG_TEXT = pd.DataFrame(LANG_TEXT)"
   ]
  },
  {
   "cell_type": "code",
   "execution_count": null,
   "metadata": {},
   "outputs": [],
   "source": [
    "LANG_TEXT.to_csv(f\"{LM_PATH}/Wiki_German_Corpus.csv\", index=False)"
   ]
  },
  {
   "cell_type": "code",
   "execution_count": null,
   "metadata": {},
   "outputs": [],
   "source": [
    "LANG_TEXT = pd.read_csv(f\"{LM_PATH}/Wiki_German_Corpus.csv\")"
   ]
  },
  {
   "cell_type": "code",
   "execution_count": null,
   "metadata": {},
   "outputs": [],
   "source": [
    "(LANG_TEXT.assign(labels = 0)\n",
    "    .pipe(lambda x: x[['labels', 'text']])\n",
    "    .to_csv(f\"{LM_PATH}/Wiki_German_Corpus2.csv\", header=None, index=False))"
   ]
  },
  {
   "cell_type": "markdown",
   "metadata": {},
   "source": [
    "# Create Language Model Tokens\n",
    "Split title from text body and tokenize text using spacy tokenizer (using the 'DE' module for German Language)"
   ]
  },
  {
   "cell_type": "code",
   "execution_count": null,
   "metadata": {},
   "outputs": [],
   "source": [
    "# REmove title name in the text field\n",
    "def split_title_from_text(text):\n",
    "    words = text.split(\"\\n\\n\")\n",
    "    if len(words) >= 2:\n",
    "        return ''.join(words[1:])\n",
    "    else:\n",
    "        return ''.join(words)\n",
    "    \n",
    "LANG_TEXT['text'] = LANG_TEXT['text'].apply(lambda x: split_title_from_text(x))\n"
   ]
  },
  {
   "cell_type": "code",
   "execution_count": null,
   "metadata": {},
   "outputs": [],
   "source": [
    "# Number of documents\n",
    "LANG_TEXT.shape"
   ]
  },
  {
   "cell_type": "code",
   "execution_count": null,
   "metadata": {},
   "outputs": [],
   "source": [
    "# number of words in dataset\n",
    "LANG_TEXT['text'].apply(lambda x: len(x.split(\" \"))).sum()"
   ]
  },
  {
   "cell_type": "code",
   "execution_count": null,
   "metadata": {},
   "outputs": [],
   "source": [
    "# number of unique tokens\n",
    "len(set(''.join(LANG_TEXT['text'].values).split(\" \")))"
   ]
  },
  {
   "cell_type": "code",
   "execution_count": null,
   "metadata": {},
   "outputs": [],
   "source": [
    "def get_texts(df, n_lbls=1, lang='de'):\n",
    "    labels = df.iloc[:,range(n_lbls)].values.astype(np.int64)\n",
    "    texts = f'\\n{BOS} {FLD} 1 ' + df[n_lbls].astype(str)\n",
    "    for i in range(n_lbls+1, len(df.columns)): texts += f' {FLD} {i-n_lbls} ' + df[i].astype(str)\n",
    "    #texts = texts.apply(fixup).values.astype(str)\n",
    "\n",
    "    tok = Tokenizer(lang=lang).proc_all_mp(partition_by_cores(texts)) # splits the list into sublists for processing by each core\n",
    "    # Lower and upper case is inside the tokenizer\n",
    "    return tok, list(labels)\n",
    "\n",
    "def get_all(df, n_lbls, lang='de'):\n",
    "    tok, labels = [], []\n",
    "    for i, r in enumerate(df):\n",
    "        print(i)\n",
    "        #pdb.set_trace()\n",
    "        tok_, labels_ = get_texts(r, n_lbls, lang=lang)\n",
    "        tok += tok_;\n",
    "        labels += labels_\n",
    "    return tok, labels"
   ]
  },
  {
   "cell_type": "code",
   "execution_count": null,
   "metadata": {},
   "outputs": [],
   "source": [
    "LANG_TEXT = pd.read_csv(f\"{LM_PATH}/Wiki_German_Corpus2.csv\", header=None)#, chunksize=5000)"
   ]
  },
  {
   "cell_type": "code",
   "execution_count": null,
   "metadata": {},
   "outputs": [],
   "source": [
    "trn_texts,val_texts = sklearn.model_selection.train_test_split(\n",
    "    LANG_TEXT, test_size=0.1) # split the data into train and validation sets"
   ]
  },
  {
   "cell_type": "markdown",
   "metadata": {},
   "source": [
    "We split our corpus into train and validation set and shuffle it "
   ]
  },
  {
   "cell_type": "code",
   "execution_count": null,
   "metadata": {},
   "outputs": [],
   "source": [
    "np.random.seed(42)\n",
    "trn_idx = np.random.permutation(len(trn_texts)) # generate a random ordering\n",
    "val_idx = np.random.permutation(len(val_texts))\n",
    "\n",
    "df_trn = trn_texts.iloc[trn_idx,:] # sort things randomly\n",
    "df_val = val_texts.iloc[val_idx,:] # sort things randomly\n",
    "\n",
    "df_trn.columns = ['labels', 'text']\n",
    "df_val.columns = ['labels', 'text']\n",
    "\n",
    "df_trn.to_csv(LM_PATH/'train.csv', header=False, index=False)\n",
    "df_val.to_csv(LM_PATH/'test.csv', header=False, index=False) # saving the data in our new format to disk"
   ]
  },
  {
   "cell_type": "code",
   "execution_count": null,
   "metadata": {},
   "outputs": [],
   "source": [
    "# read train and test data\n",
    "chunksize = 10000\n",
    "df_trn = pd.read_csv(LM_PATH/'train.csv', header=None, chunksize=chunksize)\n",
    "df_val = pd.read_csv(LM_PATH/'test.csv', header=None, chunksize=chunksize)"
   ]
  },
  {
   "cell_type": "code",
   "execution_count": null,
   "metadata": {},
   "outputs": [],
   "source": [
    "#perform tokenization\n",
    "tok_trn, trn_labels = get_all(df_trn, 1, lang='de')\n",
    "tok_val, val_labels = get_all(df_val, 1, lang='de')"
   ]
  },
  {
   "cell_type": "code",
   "execution_count": null,
   "metadata": {},
   "outputs": [],
   "source": [
    "# create a tmp directory to store the upcoming numpy arrays\n",
    "(LM_PATH/'tmp').mkdir(exist_ok=True)\n",
    "\n",
    "# save the train and validation tokens in the tmp directories\n",
    "np.save(LM_PATH/'tmp'/'tok_trn.npy', tok_trn)\n",
    "np.save(LM_PATH/'tmp'/'tok_val.npy', tok_val)"
   ]
  },
  {
   "cell_type": "code",
   "execution_count": null,
   "metadata": {},
   "outputs": [],
   "source": [
    "tok_trn = np.load(LM_PATH/'tmp'/'tok_trn.npy')\n",
    "tok_val = np.load(LM_PATH/'tmp'/'tok_val.npy')"
   ]
  },
  {
   "cell_type": "code",
   "execution_count": null,
   "metadata": {},
   "outputs": [],
   "source": [
    "# Identify the most common tokens and numericalizing the text\n",
    "freq = Counter(p for o in tok_trn for p in o) \n",
    "freq.most_common(500)"
   ]
  },
  {
   "cell_type": "markdown",
   "metadata": {},
   "source": [
    "The vocab represents the unique set of all tokens (i.e. words) in our dataset.  \n",
    "We ignore rare words and set max_vocab to 60000."
   ]
  },
  {
   "cell_type": "code",
   "execution_count": null,
   "metadata": {},
   "outputs": [],
   "source": [
    "# Truncating our vocab to ignore the rare words\n",
    "max_vocab = 60000\n",
    "min_freq = 5\n",
    "\n",
    "itos = [o for o,c in freq.most_common(max_vocab) if c>min_freq] # getting rid of the rare words\n",
    "itos.insert(0, '_pad_') # \n",
    "itos.insert(0, '_unk_') # itos is the list of all the strings in the vocab"
   ]
  },
  {
   "cell_type": "markdown",
   "metadata": {},
   "source": [
    "stoi is a reverse mapping for our tokens to it's index (look-up index for a given word)"
   ]
  },
  {
   "cell_type": "code",
   "execution_count": 39,
   "metadata": {},
   "outputs": [
    {
     "data": {
      "text/plain": [
       "60002"
      ]
     },
     "execution_count": 39,
     "metadata": {},
     "output_type": "execute_result"
    }
   ],
   "source": [
    "# creating a index-key dictionary for our vocabulary\n",
    "stoi = collections.defaultdict(lambda:0, {v:k for k,v in enumerate(itos)})\n",
    "len(itos)"
   ]
  },
  {
   "cell_type": "code",
   "execution_count": null,
   "metadata": {},
   "outputs": [],
   "source": [
    "# creating a index representation for our train and validation dataset\n",
    "trn_lm = np.array([[stoi[o] for o in p] for p in tok_trn])\n",
    "val_lm = np.array([[stoi[o] for o in p] for p in tok_val])"
   ]
  },
  {
   "cell_type": "code",
   "execution_count": null,
   "metadata": {},
   "outputs": [],
   "source": [
    "# saving our indexed representation of our dataset to disk\n",
    "# we also save the index-word mapping to retrieve the complete text representation from these numpy arrays\n",
    "np.save(LM_PATH/'tmp'/'trn_ids.npy', trn_lm)\n",
    "np.save(LM_PATH/'tmp'/'val_ids.npy', val_lm)\n",
    "pickle.dump(itos, open(LM_PATH/'tmp'/'itos.pkl', 'wb'))"
   ]
  },
  {
   "cell_type": "code",
   "execution_count": 41,
   "metadata": {},
   "outputs": [],
   "source": [
    "# Loading the indexed representation of our dataset from disk\n",
    "# we also load the index-word mapping to to help us convert the indexes to word datasets, if need be.\n",
    "trn_lm = np.load(LM_PATH/'tmp'/'trn_ids.npy')\n",
    "val_lm = np.load(LM_PATH/'tmp'/'val_ids.npy')\n",
    "itos = pickle.load(open(LM_PATH/'tmp'/'itos.pkl', 'rb'))"
   ]
  },
  {
   "cell_type": "code",
   "execution_count": null,
   "metadata": {},
   "outputs": [],
   "source": [
    "# checking vocabulary size\n",
    "vs=len(itos)\n",
    "vs,len(trn_lm)"
   ]
  },
  {
   "cell_type": "markdown",
   "metadata": {},
   "source": [
    "# Model setup\n",
    "Set embedding size to 400, 1150 hidden untis and 3 layers."
   ]
  },
  {
   "cell_type": "code",
   "execution_count": null,
   "metadata": {},
   "outputs": [],
   "source": [
    "em_sz, nh, nl = 400, 1150, 3"
   ]
  },
  {
   "cell_type": "markdown",
   "metadata": {},
   "source": [
    "# Language Model\n",
    "We build a backbone Language Model from German Wikipedia data (fixed batch size) "
   ]
  },
  {
   "cell_type": "code",
   "execution_count": null,
   "metadata": {},
   "outputs": [],
   "source": [
    "wd=1e-7\n",
    "bptt=70\n",
    "bs=52\n",
    "opt_fn = partial(optim.Adam, betas=(0.8, 0.99))"
   ]
  },
  {
   "cell_type": "markdown",
   "metadata": {},
   "source": [
    "We concatenate all tokens and pass them to LanguageModelLoader "
   ]
  },
  {
   "cell_type": "code",
   "execution_count": null,
   "metadata": {},
   "outputs": [],
   "source": [
    "trn_dl = LanguageModelLoader(np.concatenate(trn_lm), bs, bptt)\n",
    "val_dl = LanguageModelLoader(np.concatenate(val_lm), bs, bptt)\n",
    "# return the language model itself\n",
    "md = LanguageModelData(PATH, 1, vs, trn_dl, val_dl, bs=bs, bptt=bptt)"
   ]
  },
  {
   "cell_type": "markdown",
   "metadata": {},
   "source": [
    "We setup the dropouts for the model - these values have been chosen after experimentation. If you need to update them for custom LMs, you can change the weighting factor (0.7 here) based on the amount of data you have. For more data, you can reduce dropout factor and for small datasets, you can reduce overfitting by choosing a higher dropout factor. No other dropout value requires tuning"
   ]
  },
  {
   "cell_type": "code",
   "execution_count": null,
   "metadata": {},
   "outputs": [],
   "source": [
    "drops = np.array([0.25, 0.1, 0.2, 0.02, 0.15])*0.7 # if you're overfitting, increase this. Underfitting? decrease this."
   ]
  },
  {
   "cell_type": "markdown",
   "metadata": {},
   "source": [
    "We first tune the last embedding layer so that the missing tokens initialized with mean weights get tuned properly. So we freeze everything except the last layer.\n",
    "We also keep track of the accuracy metric."
   ]
  },
  {
   "cell_type": "code",
   "execution_count": null,
   "metadata": {},
   "outputs": [],
   "source": [
    "learner= md.get_model(opt_fn, em_sz, nh, nl, \n",
    "    dropouti=drops[0], dropout=drops[1], wdrop=drops[2], dropoute=drops[3], dropouth=drops[4])\n",
    "\n",
    "learner.metrics = [accuracy]\n",
    "learner.clip = 0.2\n",
    "learner.unfreeze()\n",
    "#learner.freeze_to(-1)"
   ]
  },
  {
   "cell_type": "code",
   "execution_count": null,
   "metadata": {},
   "outputs": [],
   "source": [
    "lr=1e-3\n",
    "lrs = lr"
   ]
  },
  {
   "cell_type": "code",
   "execution_count": null,
   "metadata": {},
   "outputs": [],
   "source": [
    "learner.fit(lrs/2, 1, wds=wd, use_clr=(32,2), cycle_len=1) # train emneddings"
   ]
  },
  {
   "cell_type": "markdown",
   "metadata": {},
   "source": [
    "Note that we print out accuracy and keep track of how often we end up predicting the target word correctly. While this is a good metric to check, it is not part of our loss function as it can get quite bumpy. We only minimize cross-entropy loss in the LM.\n",
    "The exponent of the cross-entropy loss is called the perplexity of the LM. (low perplexity is better)."
   ]
  },
  {
   "cell_type": "code",
   "execution_count": null,
   "metadata": {},
   "outputs": [],
   "source": [
    "learner.save('lm_last_ft')\n",
    "\n",
    "learner.save_encoder('lm_last_enc')\n",
    "learner.unfreeze()"
   ]
  },
  {
   "cell_type": "code",
   "execution_count": null,
   "metadata": {},
   "outputs": [],
   "source": [
    "learner.load('lm_last_ft')\n",
    "# find good learning rate\n",
    "#learner.lr_find(start_lr=lrs/10, end_lr=lrs*10, linear=True)"
   ]
  },
  {
   "cell_type": "code",
   "execution_count": null,
   "metadata": {},
   "outputs": [],
   "source": [
    "#learner.sched.plot()"
   ]
  },
  {
   "cell_type": "code",
   "execution_count": null,
   "metadata": {},
   "outputs": [],
   "source": [
    "#learner.fit(lrs, 1, wds=wd, use_clr=(20,10), cycle_len=1)"
   ]
  },
  {
   "cell_type": "markdown",
   "metadata": {},
   "source": [
    "We save the trained model weights and separately save the encoder part of the LM model as well. This will serve as our backbone in the classification task model."
   ]
  },
  {
   "cell_type": "code",
   "execution_count": null,
   "metadata": {},
   "outputs": [],
   "source": [
    "#learner.save('lm1')\n",
    "#learner.save_encoder('lm1_enc')\n",
    "#learner.sched.plot_loss()"
   ]
  },
  {
   "cell_type": "code",
   "execution_count": null,
   "metadata": {},
   "outputs": [],
   "source": [
    "# I did not run this because I currently do not have access to a GPU (long runtime)\n",
    "#learner.fit(lrs, 1, wds=wd, use_clr=(20,10), cycle_len=15)\n",
    "#learner.save('lm2')\n",
    "#learner.save_encoder('lm2_enc')"
   ]
  },
  {
   "cell_type": "markdown",
   "metadata": {},
   "source": [
    "# Extract Embeddings from Language Model\n",
    "The following code can be used to extract the embeddings from the language model"
   ]
  },
  {
   "cell_type": "code",
   "execution_count": null,
   "metadata": {},
   "outputs": [],
   "source": [
    "learner.load('lm_last_ft')\n",
    "m = learner.model\n",
    "m.eval()\n",
    "layers = list(m.children())\n",
    "dir(layers[0].encoder)\n",
    "layers[0].encoder.weight"
   ]
  },
  {
   "cell_type": "markdown",
   "metadata": {},
   "source": [
    "# Test predictions on Language Model"
   ]
  },
  {
   "cell_type": "code",
   "execution_count": null,
   "metadata": {},
   "outputs": [],
   "source": [
    "learner.load('lm_last_ft')\n",
    "m = learner.model\n",
    "m.eval()"
   ]
  },
  {
   "cell_type": "code",
   "execution_count": null,
   "metadata": {},
   "outputs": [],
   "source": [
    "sen = \"ich stehe in\"\n",
    "idxs = np.array([[stoi[p] for p in sen.strip().split(\" \")]])\n",
    "idxs"
   ]
  },
  {
   "cell_type": "code",
   "execution_count": null,
   "metadata": {},
   "outputs": [],
   "source": [
    "p = m(VV(idxs))\n",
    "type(p), len(p)"
   ]
  },
  {
   "cell_type": "code",
   "execution_count": null,
   "metadata": {},
   "outputs": [],
   "source": [
    "p[0].shape, [x.shape for x in p[1]], [x.shape for x in p[2]]"
   ]
  },
  {
   "cell_type": "code",
   "execution_count": null,
   "metadata": {},
   "outputs": [],
   "source": [
    "#p[0] is most likely the output vector\n",
    "p[0].data"
   ]
  },
  {
   "cell_type": "code",
   "execution_count": null,
   "metadata": {},
   "outputs": [],
   "source": [
    "# This command gives us the index of the word which has the highest probability for the last row\n",
    "torch.topk(p[0][-1], 1)"
   ]
  },
  {
   "cell_type": "code",
   "execution_count": null,
   "metadata": {},
   "outputs": [],
   "source": [
    "#predict the next word\n",
    "itos[torch.topk(p[0][-1], 1)[1].data[0]]"
   ]
  },
  {
   "cell_type": "code",
   "execution_count": null,
   "metadata": {},
   "outputs": [],
   "source": [
    "def get_next(inp):\n",
    "#     m[0].bs = 1 ## why?\n",
    "    idxs = np.array([[stoi[p] for p in inp.strip().split(\" \")]])\n",
    "    p = m(VV(idxs))\n",
    "    #pdb.set_trace()\n",
    "    i = np.argmax(to_np(p)[0], 1)[0]\n",
    "    try:\n",
    "        r = itos[i]\n",
    "    except:\n",
    "        r = \"oor\"\n",
    "    return r\n",
    "\n",
    "def get_next(inp):\n",
    "    idxs = np.array([[stoi[p] for p in inp.strip().split(\" \")]])\n",
    "    p = m(VV(idxs))\n",
    "    #i = np.argmax(to_np(p)[0], 1)[0]\n",
    "    i = torch.topk(p[0][-1], 1)[1].data[0]\n",
    "    try:\n",
    "        r = itos[i]\n",
    "    except:\n",
    "        r = \"oor\"\n",
    "    return r\n",
    "\n",
    "\n",
    "def get_next_n(inp, n):\n",
    "    res = inp\n",
    "    for i in range(n):\n",
    "        c = get_next(inp)\n",
    "        print(\"input: [\", inp, \"] ||| c:[\", c, \"]\")\n",
    "        #pdb.set_trace()\n",
    "        # res += c # ???\n",
    "        res = res + \" \" + c\n",
    "        #pdb.set_trace()\n",
    "#         inp = ' '.join(inp.strip().split(\" \")[1:]) + \"  \" + c\n",
    "        inp = inp + \" \" + c\n",
    "        inp = ' '.join(inp.strip().split(\" \")[-5:]) + \"  \" + c\n",
    "        \n",
    "    return res"
   ]
  },
  {
   "cell_type": "code",
   "execution_count": null,
   "metadata": {},
   "outputs": [],
   "source": [
    "sen = \"ich wohne in\"\n",
    "\n",
    "# o = get_next(sen)\n",
    "o = get_next_n(sen, 10)\n",
    "print(o)"
   ]
  },
  {
   "cell_type": "code",
   "execution_count": null,
   "metadata": {},
   "outputs": [],
   "source": [
    "# more intereference tests\n",
    "def get_next(inp):\n",
    "    m[0].bs =1\n",
    "    #print(inp)\n",
    "    idxs = np.array([[stoi[p] for p in inp.strip().split(\" \")]])\n",
    "    probs = m(VV(idxs))\n",
    "    encc = probs[-1][-1][-1][-1].squeeze()\n",
    "    pred = to_np(learner.model[1].decoder(encc).exp()).argmax()\n",
    "    try:\n",
    "        r = itos[pred]\n",
    "    except:\n",
    "        r = \"oor\"\n",
    "    return r\n",
    "\n",
    "\n",
    "def get_next_n(inp, n):\n",
    "    res = inp\n",
    "    for i in range(n):\n",
    "        c = get_next(inp)\n",
    "        # res += c # ???\n",
    "        res = res + \" \" + c\n",
    "        #print(res)\n",
    "        inp = inp.strip().split(\" \") + [c]        \n",
    "#         inp = ' '.join(inp[1:])\n",
    "        inp = ' '.join(inp)\n",
    "        \n",
    "    return res"
   ]
  },
  {
   "cell_type": "code",
   "execution_count": null,
   "metadata": {},
   "outputs": [],
   "source": [
    "sen = \"der sieger spielt gegen\" \n",
    "get_next_n(sen, 10)"
   ]
  },
  {
   "cell_type": "markdown",
   "metadata": {},
   "source": [
    "# Classifier Tokens\n",
    "The classifier model is basically a linear layer custom head on top of the LM backbone. Setting up the classifier data is similar to the LM data setup except that we cannot use the unsup movie reviews this time."
   ]
  },
  {
   "cell_type": "code",
   "execution_count": null,
   "metadata": {},
   "outputs": [],
   "source": [
    "CLAS_PATH = Path(\"lm/german/german_twitter_clas/\")\n",
    "LM_PATH.mkdir(exist_ok=True)"
   ]
  },
  {
   "cell_type": "code",
   "execution_count": null,
   "metadata": {},
   "outputs": [],
   "source": [
    "df_clas_data = pd.read_csv(CLAS_PATH/\"downloaded.tsv\", sep=\"\\t\", header=None)\n",
    "df_clas_data = df_clas_data[[1,4]]\n",
    "df_clas_data.columns = ['sentiment', 'tweet_text']\n",
    "\n",
    "df_clas_data.applymap(lambda x: x.strip() if type(x) is str else x)\n",
    "df_clas_data = df_clas_data[df_clas_data.tweet_text.str.contains(\"Not Available\") == False]\n",
    "\n",
    "mapping = {'positive': -1.0, 'negative': 1.0, 'neutral': 0}\n",
    "df_clas_data = df_clas_data.replace({'sentiment': mapping})\n",
    "#df_clas_data['sentiment'] = df_clas_data['sentiment'].str.strip()\n",
    "df_clas_data['sentiment'] = df_clas_data['sentiment'].astype(np.float32)"
   ]
  },
  {
   "cell_type": "code",
   "execution_count": null,
   "metadata": {},
   "outputs": [],
   "source": [
    "# copy-past from https://github.com/abdulfatir/twitter-sentiment-analysis/blob/master/preprocess.py\n",
    "import re\n",
    "\n",
    "import re\n",
    "import sys\n",
    "\n",
    "\n",
    "def preprocess_word(word):\n",
    "    # Remove punctuation\n",
    "    word = word.strip('\\'\"?!,.():;')\n",
    "    # Convert more than 2 letter repetitions to 2 letter\n",
    "    # funnnnny --> funny\n",
    "    word = re.sub(r'(.)\\1+', r'\\1\\1', word)\n",
    "    # Remove - & '\n",
    "    word = re.sub(r'(-|\\')', '', word)\n",
    "    return word\n",
    "\n",
    "\n",
    "def is_valid_word(word):\n",
    "    # Check if word begins with an alphabet\n",
    "    return (re.search(r'^[a-zA-Z][a-z0-9A-Z\\._]*$', word) is not None)\n",
    "\n",
    "\n",
    "def handle_emojis(tweet):\n",
    "    # Smile -- :), : ), :-), (:, ( :, (-:, :')\n",
    "    tweet = re.sub(r'(:\\s?\\)|:-\\)|\\(\\s?:|\\(-:|:\\'\\))', ' EMO_POS ', tweet)\n",
    "    # Laugh -- :D, : D, :-D, xD, x-D, XD, X-D\n",
    "    tweet = re.sub(r'(:\\s?D|:-D|x-?D|X-?D)', ' EMO_POS ', tweet)\n",
    "    # Love -- <3, :*\n",
    "    tweet = re.sub(r'(<3|:\\*)', ' EMO_POS ', tweet)\n",
    "    # Wink -- ;-), ;), ;-D, ;D, (;,  (-;\n",
    "    tweet = re.sub(r'(;-?\\)|;-?D|\\(-?;)', ' EMO_POS ', tweet)\n",
    "    # Sad -- :-(, : (, :(, ):, )-:\n",
    "    tweet = re.sub(r'(:\\s?\\(|:-\\(|\\)\\s?:|\\)-:)', ' EMO_NEG ', tweet)\n",
    "    # Cry -- :,(, :'(, :\"(\n",
    "    tweet = re.sub(r'(:,\\(|:\\'\\(|:\"\\()', ' EMO_NEG ', tweet)\n",
    "    return tweet\n",
    "\n",
    "\n",
    "def preprocess_tweet(tweet):\n",
    "    processed_tweet = []\n",
    "    # Convert to lower case\n",
    "    tweet = tweet.lower()\n",
    "    # Replaces URLs with the word URL\n",
    "    tweet = re.sub(r'((www\\.[\\S]+)|(https?://[\\S]+))', ' URL ', tweet)\n",
    "    # Replace @handle with the word USER_MENTION\n",
    "    tweet = re.sub(r'@[\\S]+', 'USER_MENTION', tweet)\n",
    "    # Replaces #hashtag with hashtag\n",
    "    tweet = re.sub(r'#(\\S+)', r' \\1 ', tweet)\n",
    "    # Remove RT (retweet)\n",
    "    tweet = re.sub(r'\\brt\\b', '', tweet)\n",
    "    # Replace 2+ dots with space\n",
    "    tweet = re.sub(r'\\.{2,}', ' ', tweet)\n",
    "    # Strip space, \" and ' from tweet\n",
    "    tweet = tweet.strip(' \"\\'')\n",
    "    # Replace emojis with either EMO_POS or EMO_NEG\n",
    "    tweet = handle_emojis(tweet)\n",
    "    # Replace multiple spaces with a single space\n",
    "    tweet = re.sub(r'\\s+', ' ', tweet)\n",
    "    words = tweet.split()\n",
    "\n",
    "    for word in words:\n",
    "        word = preprocess_word(word)\n",
    "        if is_valid_word(word):\n",
    "            processed_tweet.append(word)\n",
    "\n",
    "    return ' '.join(processed_tweet)"
   ]
  },
  {
   "cell_type": "code",
   "execution_count": null,
   "metadata": {},
   "outputs": [],
   "source": [
    "df_clas_data['tweet_text'] = df_clas_data['tweet_text'].apply(lambda x: preprocess_tweet(x))"
   ]
  },
  {
   "cell_type": "code",
   "execution_count": null,
   "metadata": {},
   "outputs": [],
   "source": [
    "#remove neutral comments\n",
    "#df_clas_data = df_clas_data[df_clas_data['sentiment'] != 0].reset_index(drop=True)\n",
    "\n",
    "df_clas_data.to_csv(CLAS_PATH/\"German_Sentiment_Data.csv\", index=False)\n",
    "\n",
    "# Creating train and validation sets\n",
    "np.random.seed(42)\n",
    "trn_keep = np.random.rand(len(df_clas_data))>0.1\n",
    "df_trn = df_clas_data[trn_keep]\n",
    "df_val = df_clas_data[~trn_keep]\n",
    "\n",
    "# Saving train and validation sets to disk\n",
    "df_trn.to_csv(CLAS_PATH/\"German_Sentiment_Data_Train.csv\", header=None, index=False)\n",
    "df_val.to_csv(CLAS_PATH/\"German_Sentiment_Data_Test.csv\", header=None, index=False)\n",
    "\n",
    "len(df_trn),len(df_val)"
   ]
  },
  {
   "cell_type": "code",
   "execution_count": null,
   "metadata": {},
   "outputs": [],
   "source": [
    "#Number of tweets per sentiment\n",
    "df_clas_data['sentiment'].value_counts()"
   ]
  },
  {
   "cell_type": "code",
   "execution_count": null,
   "metadata": {},
   "outputs": [],
   "source": [
    "chunksize = 10000\n",
    "df_trn = pd.read_csv(CLAS_PATH/\"German_Sentiment_Data_Train.csv\", header=None, chunksize=chunksize)\n",
    "df_val = pd.read_csv(CLAS_PATH/\"German_Sentiment_Data_Test.csv\", header=None, chunksize=chunksize)"
   ]
  },
  {
   "cell_type": "code",
   "execution_count": null,
   "metadata": {},
   "outputs": [],
   "source": [
    "tok_trn, trn_labels = get_all(df_trn, 1)\n",
    "tok_val, val_labels = get_all(df_val, 1)"
   ]
  },
  {
   "cell_type": "code",
   "execution_count": null,
   "metadata": {},
   "outputs": [],
   "source": [
    "(CLAS_PATH/'tmp').mkdir(exist_ok=True)\n",
    "\n",
    "np.save(CLAS_PATH/'tmp'/'tok_trn.npy', tok_trn)\n",
    "np.save(CLAS_PATH/'tmp'/'tok_val.npy', tok_val)\n",
    "\n",
    "np.save(CLAS_PATH/'tmp'/'trn_labels.npy', trn_labels)\n",
    "np.save(CLAS_PATH/'tmp'/'val_labels.npy', val_labels)"
   ]
  },
  {
   "cell_type": "code",
   "execution_count": null,
   "metadata": {},
   "outputs": [],
   "source": [
    "tok_trn = np.load(CLAS_PATH/'tmp'/'tok_trn.npy')\n",
    "tok_val = np.load(CLAS_PATH/'tmp'/'tok_val.npy')"
   ]
  },
  {
   "cell_type": "code",
   "execution_count": null,
   "metadata": {},
   "outputs": [],
   "source": [
    "itos = pickle.load((LM_PATH/'tmp'/'itos.pkl').open('rb'))\n",
    "stoi = collections.defaultdict(lambda:0, {v:k for k,v in enumerate(itos)})\n",
    "len(itos)"
   ]
  },
  {
   "cell_type": "code",
   "execution_count": null,
   "metadata": {},
   "outputs": [],
   "source": [
    "trn_clas = np.array([[stoi[o] for o in p] for p in tok_trn])\n",
    "val_clas = np.array([[stoi[o] for o in p] for p in tok_val])"
   ]
  },
  {
   "cell_type": "code",
   "execution_count": null,
   "metadata": {},
   "outputs": [],
   "source": [
    "np.save(CLAS_PATH/'tmp'/'trn_ids.npy', trn_clas)\n",
    "np.save(CLAS_PATH/'tmp'/'val_ids.npy', val_clas)"
   ]
  },
  {
   "cell_type": "markdown",
   "metadata": {},
   "source": [
    "# Classifier\n",
    "We build a classifier to make sentiment predictions on the SB-10k Twitter Corpus (https://www.spinningbytes.com/resources/germansentiment/) using our language model"
   ]
  },
  {
   "cell_type": "code",
   "execution_count": 1,
   "metadata": {},
   "outputs": [],
   "source": [
    "from fastai.text import * \n",
    "import json\n",
    "import pathlib\n",
    "\n",
    "\n",
    "import numpy as np\n",
    "import pandas as pd\n",
    "\n",
    "PATH = pathlib.Path(\"lm/german/data/\")\n",
    "\n",
    "LM_PATH=Path('lm/german/german_lm/')\n",
    "LM_PATH.mkdir(exist_ok=True)\n",
    "CLAS_PATH = Path(\"lm/german/german_twitter_clas/\")\n",
    "LM_PATH.mkdir(exist_ok=True)\n",
    "itos = pickle.load(open(LM_PATH/'tmp'/'itos.pkl', 'rb'))"
   ]
  },
  {
   "cell_type": "code",
   "execution_count": 2,
   "metadata": {},
   "outputs": [],
   "source": [
    "trn_clas = np.load(CLAS_PATH/'tmp'/'trn_ids.npy')\n",
    "val_clas = np.load(CLAS_PATH/'tmp'/'val_ids.npy')"
   ]
  },
  {
   "cell_type": "code",
   "execution_count": 3,
   "metadata": {},
   "outputs": [],
   "source": [
    "trn_labels = np.squeeze(np.load(CLAS_PATH/'tmp'/'trn_labels.npy'))\n",
    "val_labels = np.squeeze(np.load(CLAS_PATH/'tmp'/'val_labels.npy'))"
   ]
  },
  {
   "cell_type": "code",
   "execution_count": 4,
   "metadata": {},
   "outputs": [
    {
     "data": {
      "text/plain": [
       "21"
      ]
     },
     "execution_count": 4,
     "metadata": {},
     "output_type": "execute_result"
    }
   ],
   "source": [
    "#length of first comment\n",
    "len(trn_clas[0])"
   ]
  },
  {
   "cell_type": "code",
   "execution_count": 5,
   "metadata": {},
   "outputs": [],
   "source": [
    "bptt,em_sz,nh,nl = 70,400,1150,3\n",
    "vs = len(itos)\n",
    "opt_fn = partial(optim.Adam, betas=(0.8, 0.99))\n",
    "bs = 48"
   ]
  },
  {
   "cell_type": "code",
   "execution_count": 6,
   "metadata": {},
   "outputs": [],
   "source": [
    "min_lbl = trn_labels.min()\n",
    "trn_labels -= min_lbl\n",
    "val_labels -= min_lbl\n",
    "c=int(trn_labels.max())+1\n"
   ]
  },
  {
   "cell_type": "code",
   "execution_count": 7,
   "metadata": {},
   "outputs": [
    {
     "data": {
      "text/plain": [
       "3"
      ]
     },
     "execution_count": 7,
     "metadata": {},
     "output_type": "execute_result"
    }
   ],
   "source": [
    "c"
   ]
  },
  {
   "cell_type": "markdown",
   "metadata": {},
   "source": [
    "We need to classify the sentiment of the data into either positive / neutral / negative (number of classes c = 3)."
   ]
  },
  {
   "cell_type": "code",
   "execution_count": 8,
   "metadata": {},
   "outputs": [],
   "source": [
    "trn_ds = TextDataset(trn_clas, trn_labels)\n",
    "val_ds = TextDataset(val_clas, val_labels)\n",
    "trn_samp = SortishSampler(trn_clas, key=lambda x: len(trn_clas[x]), bs=bs//2)\n",
    "val_samp = SortSampler(val_clas, key=lambda x: len(val_clas[x]))\n",
    "trn_dl = DataLoader(trn_ds, bs//2, transpose=True, num_workers=1, pad_idx=1, sampler=trn_samp)\n",
    "val_dl = DataLoader(val_ds, bs, transpose=True, num_workers=1, pad_idx=1, sampler=val_samp)\n",
    "md = ModelData(PATH, trn_dl, val_dl)"
   ]
  },
  {
   "cell_type": "code",
   "execution_count": 9,
   "metadata": {},
   "outputs": [],
   "source": [
    " dps = np.array([0.4, 0.5, 0.05, 0.3, 0.1])"
   ]
  },
  {
   "cell_type": "code",
   "execution_count": 10,
   "metadata": {},
   "outputs": [],
   "source": [
    "m = get_rnn_classifer(bptt, 20*70, c, vs, emb_sz=em_sz, n_hid=nh, n_layers=nl, pad_token=1,\n",
    "          layers=[em_sz*3, 50, c], drops=[dps[4], 0.1],\n",
    "          dropouti=dps[0], wdrop=dps[1], dropoute=dps[2], dropouth=dps[3])"
   ]
  },
  {
   "cell_type": "code",
   "execution_count": 11,
   "metadata": {},
   "outputs": [],
   "source": [
    "opt_fn = partial(optim.Adam, betas=(0.7, 0.99))"
   ]
  },
  {
   "cell_type": "code",
   "execution_count": 16,
   "metadata": {},
   "outputs": [],
   "source": [
    "learn = RNN_Learner(md, TextModel(to_gpu(m)), opt_fn=opt_fn)\n",
    "learn.reg_fn = partial(seq2seq_reg, alpha=2, beta=1)\n",
    "learn.clip=25.\n",
    "learn.metrics = [accuracy]"
   ]
  },
  {
   "cell_type": "code",
   "execution_count": 17,
   "metadata": {},
   "outputs": [],
   "source": [
    "lr=3e-3\n",
    "lrm = 2.6\n",
    "lrs = np.array([lr/(lrm**4), lr/(lrm**3), lr/(lrm**2), lr/lrm, lr])"
   ]
  },
  {
   "cell_type": "code",
   "execution_count": 18,
   "metadata": {},
   "outputs": [],
   "source": [
    "#lrs=np.array([1e-4,1e-4,1e-4,1e-3,1e-2])"
   ]
  },
  {
   "cell_type": "code",
   "execution_count": 19,
   "metadata": {},
   "outputs": [],
   "source": [
    "wd = 1e-7\n",
    "wd = 0\n",
    "learn.load_encoder('lm_last_enc')"
   ]
  },
  {
   "cell_type": "code",
   "execution_count": 20,
   "metadata": {},
   "outputs": [],
   "source": [
    "learn.freeze_to(-1)"
   ]
  },
  {
   "cell_type": "code",
   "execution_count": 21,
   "metadata": {},
   "outputs": [
    {
     "data": {
      "application/vnd.jupyter.widget-view+json": {
       "model_id": "c14a1aae6273479982917f30166b83e9",
       "version_major": 2,
       "version_minor": 0
      },
      "text/plain": [
       "HBox(children=(IntProgress(value=0, description='Epoch', max=1), HTML(value='')))"
      ]
     },
     "metadata": {},
     "output_type": "display_data"
    },
    {
     "name": "stdout",
     "output_type": "stream",
     "text": [
      " 81%|████████  | 215/266 [03:07<00:44,  1.15it/s, loss=4.01] "
     ]
    },
    {
     "data": {
      "image/png": "[encoded data removed]",
      "text/plain": [
       "<Figure size 432x288 with 1 Axes>"
      ]
     },
     "metadata": {},
     "output_type": "display_data"
    }
   ],
   "source": [
    "learn.lr_find(lrs/1000)\n",
    "learn.sched.plot()"
   ]
  },
  {
   "cell_type": "code",
   "execution_count": 22,
   "metadata": {
    "scrolled": true
   },
   "outputs": [
    {
     "data": {
      "application/vnd.jupyter.widget-view+json": {
       "model_id": "94a0ead9587c43ceb3826e7dc2a88734",
       "version_major": 2,
       "version_minor": 0
      },
      "text/plain": [
       "HBox(children=(IntProgress(value=0, description='Epoch', max=1), HTML(value='')))"
      ]
     },
     "metadata": {},
     "output_type": "display_data"
    },
    {
     "name": "stdout",
     "output_type": "stream",
     "text": [
      "epoch      trn_loss   val_loss   accuracy                    \n",
      "    0      0.835341   0.812058   0.637385  \n"
     ]
    },
    {
     "data": {
      "text/plain": [
       "[array([0.81206]), 0.6373851706036746]"
      ]
     },
     "execution_count": 22,
     "metadata": {},
     "output_type": "execute_result"
    }
   ],
   "source": [
    "learn.fit(lrs, 1, wds=wd, cycle_len=1, use_clr=(8,3))"
   ]
  },
  {
   "cell_type": "code",
   "execution_count": 23,
   "metadata": {},
   "outputs": [],
   "source": [
    "learn.save('clas_0')\n",
    "learn.save_encoder('clas_0_enc')"
   ]
  },
  {
   "cell_type": "code",
   "execution_count": 24,
   "metadata": {},
   "outputs": [],
   "source": [
    "learn.load('clas_0')"
   ]
  },
  {
   "cell_type": "code",
   "execution_count": 25,
   "metadata": {},
   "outputs": [],
   "source": [
    "learn.freeze_to(-2)"
   ]
  },
  {
   "cell_type": "code",
   "execution_count": 26,
   "metadata": {},
   "outputs": [
    {
     "data": {
      "application/vnd.jupyter.widget-view+json": {
       "model_id": "856b7d23fbc6421c81430d7cfce4de8e",
       "version_major": 2,
       "version_minor": 0
      },
      "text/plain": [
       "HBox(children=(IntProgress(value=0, description='Epoch', max=1), HTML(value='')))"
      ]
     },
     "metadata": {},
     "output_type": "display_data"
    },
    {
     "name": "stdout",
     "output_type": "stream",
     "text": [
      "epoch      trn_loss   val_loss   accuracy                    \n",
      "    0      0.819445   0.795983   0.652067  \n"
     ]
    },
    {
     "data": {
      "text/plain": [
       "[array([0.79598]), 0.6520669291338582]"
      ]
     },
     "execution_count": 26,
     "metadata": {},
     "output_type": "execute_result"
    }
   ],
   "source": [
    "learn.fit(lrs, 1, wds=wd, cycle_len=1, use_clr=(8,3))"
   ]
  },
  {
   "cell_type": "code",
   "execution_count": 27,
   "metadata": {},
   "outputs": [
    {
     "data": {
      "image/png": "[encoded data removed]",
      "text/plain": [
       "<Figure size 432x288 with 1 Axes>"
      ]
     },
     "metadata": {},
     "output_type": "display_data"
    }
   ],
   "source": [
    "learn.sched.plot_loss()"
   ]
  },
  {
   "cell_type": "code",
   "execution_count": 28,
   "metadata": {},
   "outputs": [],
   "source": [
    "learn.save('clas_1')"
   ]
  },
  {
   "cell_type": "code",
   "execution_count": 29,
   "metadata": {},
   "outputs": [],
   "source": [
    "learn.load('clas_1')"
   ]
  },
  {
   "cell_type": "code",
   "execution_count": 30,
   "metadata": {},
   "outputs": [],
   "source": [
    "learn.unfreeze()"
   ]
  },
  {
   "cell_type": "code",
   "execution_count": 31,
   "metadata": {},
   "outputs": [
    {
     "data": {
      "application/vnd.jupyter.widget-view+json": {
       "model_id": "43f55e1a5fe641c1a06840eeb5b232be",
       "version_major": 2,
       "version_minor": 0
      },
      "text/plain": [
       "HBox(children=(IntProgress(value=0, description='Epoch', max=15), HTML(value='')))"
      ]
     },
     "metadata": {},
     "output_type": "display_data"
    },
    {
     "name": "stdout",
     "output_type": "stream",
     "text": [
      "epoch      trn_loss   val_loss   accuracy                    \n",
      "    0      0.827535   0.791584   0.661745  \n",
      "    1      0.787952   0.755939   0.669455                    \n",
      "    2      0.814609   0.754204   0.679216                    \n",
      "    3      0.773758   0.75419    0.671998                    \n",
      "    4      0.736103   0.742018   0.685367                    \n",
      "    5      0.696975   0.755873   0.67897                     \n",
      "    6      0.62995    0.760091   0.690453                    \n",
      "    7      0.613698   0.822833   0.665682                    \n",
      "    8      0.580767   0.784821   0.660187                    \n",
      "    9      0.57906    0.834615   0.670194                    \n",
      "    10     0.519143   0.831204   0.668471                    \n",
      "    11     0.500632   0.850935   0.673228                    \n",
      "    12     0.470892   0.918476   0.67126                     \n",
      "    13     0.467067   0.908794   0.668881                    \n",
      "    14     0.424808   0.939071   0.64977                     \n"
     ]
    },
    {
     "data": {
      "text/plain": [
       "[array([0.93907]), 0.649770341207349]"
      ]
     },
     "execution_count": 31,
     "metadata": {},
     "output_type": "execute_result"
    }
   ],
   "source": [
    "learn.fit(lrs, 1, wds=wd, cycle_len=15, use_clr=(32,10))"
   ]
  },
  {
   "cell_type": "code",
   "execution_count": 32,
   "metadata": {},
   "outputs": [
    {
     "data": {
      "image/png": "[encoded data removed]",
      "text/plain": [
       "<Figure size 432x288 with 1 Axes>"
      ]
     },
     "metadata": {},
     "output_type": "display_data"
    }
   ],
   "source": [
    "learn.sched.plot_loss()"
   ]
  },
  {
   "cell_type": "code",
   "execution_count": 33,
   "metadata": {},
   "outputs": [],
   "source": [
    "learn.save('clas_2')"
   ]
  },
  {
   "cell_type": "markdown",
   "metadata": {},
   "source": [
    "# Experiments\n",
    "For validation purposes, we try to manually get predictions from the classifier"
   ]
  },
  {
   "cell_type": "code",
   "execution_count": 34,
   "metadata": {},
   "outputs": [],
   "source": [
    "#get predictions from evaluation set\n",
    "pred_pred = learn.predict()"
   ]
  },
  {
   "cell_type": "code",
   "execution_count": 35,
   "metadata": {},
   "outputs": [],
   "source": [
    "pred = Variable(torch.from_numpy(pred_pred))"
   ]
  },
  {
   "cell_type": "code",
   "execution_count": 36,
   "metadata": {
    "scrolled": false
   },
   "outputs": [
    {
     "name": "stdout",
     "output_type": "stream",
     "text": [
      "Variable containing:\n",
      " 0.0715  0.0565  0.8720\n",
      " 0.1016  0.0371  0.8613\n",
      " 0.0009  0.6838  0.3153\n",
      "           ⋮            \n",
      " 0.3036  0.4637  0.2327\n",
      " 0.2350  0.4743  0.2907\n",
      " 0.3038  0.4939  0.2023\n",
      "[torch.FloatTensor of size 748x3]\n",
      "\n"
     ]
    }
   ],
   "source": [
    "#convert prediction into probababilities\n",
    "prob = F.softmax(pred)\n",
    "print(prob)"
   ]
  },
  {
   "cell_type": "code",
   "execution_count": 37,
   "metadata": {},
   "outputs": [
    {
     "data": {
      "text/plain": [
       "SequentialRNN(\n",
       "  (0): MultiBatchRNN(\n",
       "    (encoder): Embedding(60002, 400, padding_idx=1)\n",
       "    (encoder_with_dropout): EmbeddingDropout(\n",
       "      (embed): Embedding(60002, 400, padding_idx=1)\n",
       "    )\n",
       "    (rnns): ModuleList(\n",
       "      (0): WeightDrop(\n",
       "        (module): LSTM(400, 1150)\n",
       "      )\n",
       "      (1): WeightDrop(\n",
       "        (module): LSTM(1150, 1150)\n",
       "      )\n",
       "      (2): WeightDrop(\n",
       "        (module): LSTM(1150, 400)\n",
       "      )\n",
       "    )\n",
       "    (dropouti): LockedDropout(\n",
       "    )\n",
       "    (dropouths): ModuleList(\n",
       "      (0): LockedDropout(\n",
       "      )\n",
       "      (1): LockedDropout(\n",
       "      )\n",
       "      (2): LockedDropout(\n",
       "      )\n",
       "    )\n",
       "  )\n",
       "  (1): PoolingLinearClassifier(\n",
       "    (layers): ModuleList(\n",
       "      (0): LinearBlock(\n",
       "        (lin): Linear(in_features=1200, out_features=50, bias=True)\n",
       "        (drop): Dropout(p=0.1)\n",
       "        (bn): BatchNorm1d(1200, eps=1e-05, momentum=0.1, affine=True)\n",
       "      )\n",
       "      (1): LinearBlock(\n",
       "        (lin): Linear(in_features=50, out_features=3, bias=True)\n",
       "        (drop): Dropout(p=0.1)\n",
       "        (bn): BatchNorm1d(50, eps=1e-05, momentum=0.1, affine=True)\n",
       "      )\n",
       "    )\n",
       "  )\n",
       ")"
      ]
     },
     "execution_count": 37,
     "metadata": {},
     "output_type": "execute_result"
    }
   ],
   "source": [
    "m"
   ]
  },
  {
   "cell_type": "code",
   "execution_count": 42,
   "metadata": {},
   "outputs": [
    {
     "name": "stdout",
     "output_type": "stream",
     "text": [
      "\n",
      " xbos xfld 1 breitet sich aus: [1]\n",
      "\n",
      " xbos xfld 1 die app hat mir mb belegten speicher freigemacht das dieser app bringt mir mb freien speicher und: [2]\n",
      "\n",
      " xbos xfld 1 t_up user_mention honess bekommt ne sehr hohe gesldstrafe und das max an: [1]\n",
      "\n",
      " xbos xfld 1 t_up user_mention hmm vielleicht fehlt dir der glaube oder du hast einfach die falsche t_up emo_pos: [0]\n",
      "\n",
      " xbos xfld 1 welches geschenk hast du zuletzt bekommen eine bettdecke o.o t_up url: [1]\n",
      "\n",
      " xbos xfld 1 gewinnspielteilnahme gratis mit eine playstation gewinnen t_up url gewinnspiel: [1]\n",
      "\n",
      " xbos xfld 1 den ganzen tag wildwasserbahn fahren war vielleicht doch nicht soo gut: [0]\n",
      "\n",
      " xbos xfld 1 t_up user_mention warum sollte eine freund_innenschaft nicht romantisch sein: [1]\n",
      "\n",
      " xbos xfld 1 t_up user_mention serie was braucht an die politik t_up url nrw13 und brauchen auch irgendwelche frauen was: [1]\n",
      "\n",
      " xbos xfld 1 nein unterirdisch t_up user_mention politisch bleibt also in alles anders: [1]\n",
      "\n",
      " xbos xfld 1 guten morgen schon novemberlicht da mag man gar nicht glauben was gestern wetter war: [1]\n",
      "\n",
      " xbos xfld 1 gesehen t_up url: [1]\n",
      "\n",
      " xbos xfld 1 t_up user_mention lieber an unsere freunde in polen aus dem norden deutschland ostholstein: [1]\n",
      "\n",
      " xbos xfld 1 seitensprung liebesbriefe fremdgehen und freunde bleiben berliner morgenpost berichte ueber seitensprung t_up url: [1]\n",
      "\n",
      " xbos xfld 1 videobustour filmstadt potsdam das rollende kino ab november jeden ersten sonntag i m monat t_up url: [1]\n",
      "\n",
      " xbos xfld 1 aargau diebe sehr aktiv t_up url: [1]\n",
      "\n",
      " xbos xfld 1 basketball phoenix hagen nimmt den usamerikanischen big man keith ramsey unter vertrag t_up url t_up user_mention: [1]\n",
      "\n",
      " xbos xfld 1 nase sitzt zu muss aufs klo hasse es: [2]\n",
      "\n",
      " xbos xfld 1 sind kurz nach mondaufgang wachgeworden eine sternenklare nacht faszinierende fotos vom mond: [1]\n",
      "\n",
      " xbos xfld 1 flauschigen bademantel zu ihrer bestellung gratis dazu t_up url geschenk: [1]\n",
      "\n",
      " xbos xfld 1 versace gladiatorenkleid aus der aus neoprene und leder mit t_up url: [1]\n",
      "\n",
      " xbos xfld 1 reichen oder besser i m at miese briese hab bock auf mcnuggets edge: [0]\n",
      "\n",
      " xbos xfld 1 new post ks baunatal geldwechseltrick geschickter dieb klaute unbemerkt euro aus portmonee t_up url: [1]\n",
      "\n",
      " xbos xfld 1 t_up user_mention sie wird wohl dreck am stecken haben merkelphone t_up url true: [0]\n",
      "\n",
      " xbos xfld 1 gute besserung t_up user_mention get well soon fcb: [0]\n",
      "\n",
      " xbos xfld 1 die lobby des neuen hiltonfrankfurt airporthotel wurde mit capadecor metallocryl gestaltet t_up url: [1]\n",
      "\n",
      " xbos xfld 1 t_up user_mention t_up user_mention fast genauso gut nur moderner: [0]\n",
      "\n",
      " xbos xfld 1 ok streicht das mist: [0]\n",
      "\n",
      " xbos xfld 1 t_up user_mention du meine fenster putzen: [1]\n",
      "\n",
      " xbos xfld 1 t_up user_mention daumen dass sie die wohnung bekommt oder nicht bekommt: [1]\n",
      "\n",
      " xbos xfld 1 interessant wegen drachen schon that macht mir nein e k counting trinke ist: [0]\n",
      "\n",
      " xbos xfld 1 google glasses okay aber eine uhr zum telefonieren mit tagen akkulaufzeit schlechter witz: [1]\n",
      "\n",
      " xbos xfld 1 harmonie zwischen faymann und glawischnig echt widerlich orfwahl13: [0]\n",
      "\n",
      " xbos xfld 1 t_up user_mention weh: [1]\n",
      "\n",
      " xbos xfld 1 t_up user_mention ein spanisches beso versprochen: [1]\n",
      "\n",
      " xbos xfld 1 t_up user_mention halluu na was macht ihr ich schau fringe: [0]\n",
      "\n",
      " xbos xfld 1 news beats audio will partnerschaft mit htc beenden t_up url: [1]\n",
      "\n",
      " xbos xfld 1 t_up user_mention project shield von google will webseiten t_up url: [1]\n",
      "\n",
      " xbos xfld 1 t_up user_mention und leider nicht am we frei schlaf gut: [0]\n",
      "\n",
      " xbos xfld 1 t_up user_mention ja irgendwie schon ihre stimme hatte halt so viel mehr: [1]\n",
      "\n",
      " xbos xfld 1 ja alsich weg war dawar dann so viel von so viel musste ich nachholen t_up user_mention t_up url: [0]\n",
      "\n",
      " xbos xfld 1 chemiewaffenvernichtung aufwendig teuer t_up url: [1]\n",
      "\n",
      " xbos xfld 1 wo ortseingang lichtenau genauer b68 richtung aus richtung paderborn kommend wann uhr: [1]\n",
      "\n",
      " xbos xfld 1 das war grammatikalisch gerade quatsch geht ja gut los i blame mister and his special skills: [0]\n",
      "\n",
      " xbos xfld 1 sitz da nich so rum lern doch mal was och nich jetzt vielleicht: [2]\n",
      "\n",
      " xbos xfld 1 t_up user_mention biokraftstoffe aus algen t_up url biomasse biotechnologie innovation biogas pharma: [1]\n",
      "\n",
      " xbos xfld 1 auch kevin darf sich laut hoffnungen machen dfb bvb: [1]\n",
      "\n",
      " xbos xfld 1 reagiert nicht: [2]\n",
      "\n",
      " xbos xfld 1 zieht mit fch gleich pleite wacker t_up url fussball kicker: [1]\n",
      "\n",
      " xbos xfld 1 trabzonspor legia warschau ende halbzeit traleg t_up url: [1]\n",
      "\n",
      " xbos xfld 1 sigi heinrich watscht die jogibasher leidenschaftlich ab schlagt endlich zum ritter t_up url: [0]\n",
      "\n",
      " xbos xfld 1 t_up user_mention ich werde gleich ein paar tweets da doch sehr privat t_up emo_pos: [0]\n",
      "\n",
      " xbos xfld 1 gute besserung mutee t_up user_mention endlich muss ich zum arzt gehen: [0]\n",
      "\n",
      " xbos xfld 1 t_up user_mention zumal ich morgen noch ein paar andere dinge tun muss: [1]\n",
      "\n",
      " xbos xfld 1 begehrte top marken bis zu reduziert jetzt bei amazon buyvip anmelden t_up url via t_up user_mention: [1]\n",
      "\n",
      " xbos xfld 1 t_up user_mention: [0]\n",
      "\n",
      " xbos xfld 1 t_up user_mention bitte rasiert frisiert oder was: [0]\n",
      "\n",
      " xbos xfld 1 saubere nummer hamburger jungs haben eingeheizt und abschlach abgerissen geiler abend geiler tag nur der t_up url: [1]\n",
      "\n",
      " xbos xfld 1 t_up user_mention ajarin donk min blm bs nich: [0]\n",
      "\n",
      " xbos xfld 1 windows bundesregierung warnt vor einsatz die bundesregierung windows laut einem zeitu t_up url: [1]\n",
      "\n",
      " xbos xfld 1 da hat wohl jemandem der snack nicht geschmeckt berlin street food burger t_up url: [1]\n",
      "\n",
      " xbos xfld 1 lebih happy nntn spongebob dri pda nntn bola d: [0]\n",
      "\n",
      " xbos xfld 1 tz bayern holt supercup elferlotto gegen chelsea prag revanche der fc bayern sich d t_up url: [1]\n",
      "\n",
      " xbos xfld 1 zerfahrene dfbelf rettet unentschieden t_up url: [1]\n",
      "\n",
      " xbos xfld 1 nicht nur offene daten auch offene algorithmen fordert t_up user_mention nach seiner erfahrung mit einem falschen folgenschweren bug bei: [1]\n",
      "\n",
      " xbos xfld 1 usa erheben anklage wegen j.p.morganhandelsskandal t_up url paid wsj wirtschaft: [1]\n",
      "\n",
      " xbos xfld 1 mr coffee versucht vergeblich meine lebensgeister zu wecken: [1]\n",
      "\n",
      " xbos xfld 1 t_up user_mention nicht gut: [1]\n",
      "\n",
      " xbos xfld 1 safer sex ohne kondom schutz durch therapie kombinierte t_up url vom t_up user_mention hiv: [1]\n",
      "\n",
      " xbos xfld 1 t_up user_mention ganz lange langsame leitung t_up emo_pos: [0]\n",
      "\n",
      " xbos xfld 1 mal umgekehrt t_up user_mention raten welche frage stronach eigtl beantworten sollte sehr lesenswert t_up emo_pos t_up url: [0]\n",
      "\n",
      " xbos xfld 1 t_up user_mention photo aus thrudheim part nofilter t_up url: [1]\n",
      "\n",
      " xbos xfld 1 cpu ram von b b benutzt b frei uptime days fri sep cest: [1]\n",
      "\n",
      " xbos xfld 1 timo glock verteidigt dtm kein chaos hoch zehn t_up url: [1]\n",
      "\n",
      " xbos xfld 1 dieses gerede nervt jetzt schon.diese austria wird in jedem cl spiel ihre chancen bekommen.effizient sein dann geht gegen jeden was: [2]\n",
      "\n",
      " xbos xfld 1 t_up user_mention t_up user_mention leider ja dabei heute nur getippt wollte das herz ausschalten fast geklappt: [0]\n",
      "\n",
      " xbos xfld 1 bitte halt einfach die fresse schwiegertochtergesucht sg t_up user_mention t_up user_mention: [1]\n",
      "\n",
      " xbos xfld 1 last hitler bodyguard rochus misch dies t_up url history war nazi: [1]\n",
      "\n",
      " xbos xfld 1 gestern wurde in unser eine kleine bodennebelmaschine eingebaut rockt our stage just got a t_up url: [1]\n",
      "\n",
      " xbos xfld 1 t_up user_mention seine liebe zu film fiktion benny aus reiner neugierde t_up user_mention zeigt heute michaelhanekes psychodrama: [0]\n",
      "\n",
      " xbos xfld 1 t_up user_mention t_up user_mention t_up user_mention einmal das obendrein sollten bei solchen verbalen attacken sollten hater mehr gegenwind bekommen: [2]\n",
      "\n",
      " xbos xfld 1 wolfsberg die regionale werbeplattform unternehmer error: [1]\n",
      "\n",
      " xbos xfld 1 entertainment ohen ende und das auch noch kostenlos t_up url: [1]\n",
      "\n",
      " xbos xfld 1 t_up user_mention europa league wie die nfl spielen lassen teams x wochen plus playoffs: [1]\n",
      "\n",
      " xbos xfld 1 geister verurteilen alles was ihren horizont geht francois duc de la rochefoucauld: [1]\n",
      "\n",
      " xbos xfld 1 aber jetzt kommt da sogar heino schon hin heino auf einem metalfestival da leck mir doch einer die hoden geht den bach runter lt: [1]\n",
      "\n",
      " xbos xfld 1 t_up user_mention guten morgen pott h aufm dach vom rathaus essen was man sonntags halt so macht wdr t_up url: [0]\n"
     ]
    },
    {
     "name": "stdout",
     "output_type": "stream",
     "text": [
      "\n",
      " xbos xfld 1 menschen aus fanlagern vereint in ihrem hohn schalke d: [2]\n",
      "\n",
      " xbos xfld 1 google will angeblich eigenes auto entwickeln google will angeblich ein aut t_up url schnipselnachrichten: [1]\n",
      "\n",
      " xbos xfld 1 die neue mega social network sharing community jetzt schon weit aus mehr member als facebook twitter zusammen t_up url: [1]\n",
      "\n",
      " xbos xfld 1 t_up user_mention von denen wird mir immer schlecht: [2]\n",
      "\n",
      " xbos xfld 1 t_up user_mention partnerschafte funktionieret well dmensche scheisse sind: [2]\n",
      "\n",
      " xbos xfld 1 abendliche t_up url: [1]\n",
      "\n",
      " xbos xfld 1 endlich mal ne frau die auch noch autofahren kann t_up url rtl: [1]\n",
      "\n",
      " xbos xfld 1 t_up user_mention csu stillstand afd nahe zu ins mittelalter: [1]\n",
      "\n",
      " xbos xfld 1 intersnack chio mikrowellen popcorn karamellgeschmack neue sorte das t_up url: [1]\n",
      "\n",
      " xbos xfld 1 ganz windig heute herbst sturm leipzig wetter weather in zschortau via instaweather t_up url: [1]\n",
      "\n",
      " xbos xfld 1 ns verstoring enschededeventer defecte trein info t_up url: [1]\n",
      "\n",
      " xbos xfld 1 vollmond mesz fische feuchtigkeitstag gewichtskontrolle fitnesstraining kurzes: [1]\n",
      "\n",
      " xbos xfld 1 t_up user_mention was machst du heute noch so meine t_up emo_pos i love you: [0]\n",
      "\n",
      " xbos xfld 1 same shit again ak abschlussklasse rsbonlanden realschule scheiss schule t_up url: [1]\n",
      "\n",
      " xbos xfld 1 borussia dortmund zwei wochen aus ilkay mittelfeldspieler bei borussia dortmund t_up url: [1]\n",
      "\n",
      " xbos xfld 1 was macht jemanden attraktiv ich gerne meinen joker befragen t_up url: [1]\n",
      "\n",
      " xbos xfld 1 t_up user_mention die liebe unter verwandten: [1]\n",
      "\n",
      " xbos xfld 1 ich durfte als bei meinem vater mal an einer reval ohne filter ziehen da war das thema rauchen durch o: [1]\n",
      "\n",
      " xbos xfld 1 t_up user_mention badum tsch: [0]\n",
      "\n",
      " xbos xfld 1 t_up user_mention mensch und natur t_up url csr nachhaltigkeit megacity politik: [1]\n",
      "\n",
      " xbos xfld 1 schwesig betreuungsgeld muss verhandelt werden t_up url: [1]\n",
      "\n",
      " xbos xfld 1 ok ich komm so nicht klar hab grade meinen gastvater aus england getroffen: [0]\n",
      "\n",
      " xbos xfld 1 t_up user_mention warum ich gegen eine koalition von spd und cdu bin ein blog vom spdmitglied tarek masoud t_up url: [1]\n",
      "\n",
      " xbos xfld 1 t_up url news intervention deutsche politiker warnen vor t_up url: [1]\n",
      "\n",
      " xbos xfld 1 t_up user_mention nichts: [0]\n",
      "\n",
      " xbos xfld 1 t_up user_mention ma bitte nicht so frech ja t_up emo_pos: [2]\n",
      "\n",
      " xbos xfld 1 hab jetzt sushi reis in der wohnung aber keinen reiskocher toll: [2]\n",
      "\n",
      " xbos xfld 1 t_up user_mention ahh gezellig haha eindelihk iemand die ik ken: [0]\n",
      "\n",
      " xbos xfld 1 ich habe ein video zu einer t_up user_mention t_up url lil wayne before tune gets back feat lil: [1]\n",
      "\n",
      " xbos xfld 1 t_up user_mention t_up user_mention war derselbe den stephen dir geschickt schicke ihn per dm ach ne hier t_up url: [0]\n",
      "\n",
      " xbos xfld 1 hugo beil gewaltliteraten: [0]\n",
      "\n",
      " xbos xfld 1 t_up user_mention scheiss schlangen: [1]\n",
      "\n",
      " xbos xfld 1 bin und sims3 ruckelt gute nachti allerseits x3: [0]\n",
      "\n",
      " xbos xfld 1 geiler arsch t_up url: [1]\n",
      "\n",
      " xbos xfld 1 kann man einen abend ausklingen lassen als mit basil poledouris epischer musik zu conan der barbar whatisbestinlife crom: [2]\n",
      "\n",
      " xbos xfld 1 t_up user_mention eisenhower: [1]\n",
      "\n",
      " xbos xfld 1 reiseknigge deutsche sind die t_up url: [1]\n",
      "\n",
      " xbos xfld 1 t_up user_mention danke bahn unwetter ausfall sturm: [1]\n",
      "\n",
      " xbos xfld 1 lange den satz nicht mehr wer nix zu verbergen hat auch keine angst vor datenweitergabe haben t_up url: [1]\n",
      "\n",
      " xbos xfld 1 t_up user_mention aw na gut dann schlaf fein klein delalein t_up emo_pos: [0]\n",
      "\n",
      " xbos xfld 1 t_up user_mention inhalt vom kochtopf blau machen licht blau machen t_up emo_pos: [0]\n",
      "\n",
      " xbos xfld 1 t_up user_mention i m not t_up emo_neg: [0]\n",
      "\n",
      " xbos xfld 1 culcay trifft wieder klarer mehr pitto wieder mehr ins leere aber trifft dennoch mehr als in den ersten runden runde7 boxen: [2]\n",
      "\n",
      " xbos xfld 1 jet set unser neues label aus der schweiz very sporty very chic very trendy t_up url: [1]\n",
      "\n",
      " xbos xfld 1 t_up user_mention sei nicht zu halt romantik mit flirtbotschaft t_up url: [1]\n",
      "\n",
      " xbos xfld 1 t_up user_mention sport1 anschalten: [0]\n",
      "\n",
      " xbos xfld 1 das interessiert mich gerade echt nicht domian: [2]\n",
      "\n",
      " xbos xfld 1 d4 update erfolgreich abgeschlossen t_up url: [1]\n",
      "\n",
      " xbos xfld 1 t_up user_mention uni kiel deutsche schickt deutsche emails denn deutsche lassen sich halt lieber von deutschen nsa: [1]\n",
      "\n",
      " xbos xfld 1 t_up user_mention cuz i m in d kitchen: [1]\n",
      "\n",
      " xbos xfld 1 t_up user_mention rotwein irgendwas schweres gerne mit kopfschmerzgarantie: [1]\n",
      "\n",
      " xbos xfld 1 sehr guter tatort aus berlin: [0]\n",
      "\n",
      " xbos xfld 1 absolute ne halbe stunde zu aufzustehen: [2]\n",
      "\n",
      " xbos xfld 1 aahh deres nh deres t_up emo_neg: [0]\n",
      "\n",
      " xbos xfld 1 what s your favorite th song jung und nicht mehr jugendfrei t_up url: [1]\n",
      "\n",
      " xbos xfld 1 t_up user_mention galaxys5 um vier gigabyte arbeitsspeicher t_up url smartphone samsung handy: [1]\n",
      "\n",
      " xbos xfld 1 t_up user_mention merker jahr publikum linke saalseite digital rechte analog sortieren sak13: [1]\n",
      "\n",
      " xbos xfld 1 genau wo kommen wir denn hin wenn hier journalisten ihre arbeit machen t_up url rausausbayern: [1]\n",
      "\n",
      " xbos xfld 1 nicaragua interozeanischer schiffahrtskanal wichtigste trinkwasserquelle freibrief den investor t_up url: [1]\n",
      "\n",
      " xbos xfld 1 t_up user_mention sicher das laptop schrott zeigt er noch etwas an: [0]\n",
      "\n",
      " xbos xfld 1 discofox dance mix dj frank mix party mit songs aus alten zeiten neu verpackt viel beim t_up url: [1]\n",
      "\n",
      " xbos xfld 1 mir ist so warm ich sterbe gleich: [2]\n",
      "\n",
      " xbos xfld 1 vipgirlsberlin.de samu haber ich nicht ob ich je heiraten werde musiker samu haber t_up url vipgirlsberlin.de: [1]\n",
      "\n",
      " xbos xfld 1 t_up user_mention nein nein ist dennoc eine berechtigte frage denn ich kann dir nicht sagen ob ein logik: [1]\n",
      "\n",
      " xbos xfld 1 t_up user_mention t_up user_mention hehehe see: [0]\n",
      "\n",
      " xbos xfld 1 t_up user_mention du willst echt nicht bis zum marathon warten was xdd: [0]\n",
      "\n",
      " xbos xfld 1 kleines t_up url: [1]\n",
      "\n",
      " xbos xfld 1 t_up user_mention darf euch meine nicht zeigen findet der mann nicht toll ihr halt eure zeigen: [1]\n",
      "\n",
      " xbos xfld 1 zu tunnel sehen so aus i m going to vomit: [0]\n",
      "\n",
      " xbos xfld 1 new post h zeugenaufruf t_up url: [1]\n",
      "\n",
      " xbos xfld 1 georg schramm die fakten reden klartext neues aus der anstalt t_up url via t_up user_mention: [1]\n",
      "\n",
      " xbos xfld 1 dating frauen gezielt verfuehren mit dating doktor danny adams frauen gezielt verfuehren ebook mit zw t_up url: [1]\n",
      "\n",
      " xbos xfld 1 stempel sicher online holzstempel aus buchenholz z b x mm max zeilen mit t_up url: [1]\n",
      "\n",
      " xbos xfld 1 polh zeugenaufruf motorradfahrer bei unfall leicht verletzt t_up url: [1]\n",
      "\n",
      " xbos xfld 1 t_up user_mention nope basisdemokratiespinner stellen i m hinterland fast alle politisch aktiven kalt bitte sehr: [1]\n",
      "\n",
      " xbos xfld 1 t_up user_mention eben verteidigung d wenn es mal nicht schmusen will halbiert das tierchen dich damit d: [0]\n",
      "\n",
      " xbos xfld 1 ich hasse kaugummi was nur die ersten min gut schmeckt und dann nach gar nichts mehr schmeckt: [2]\n",
      "\n",
      " xbos xfld 1 t_up user_mention ach kenn ich die: [0]\n",
      "\n",
      " xbos xfld 1 beziehungsstatus oma will mich mit einer von sturm der liebe verkuppeln: [0]\n",
      "\n",
      " xbos xfld 1 bin single aus kufstein t_up url: [0]\n",
      "\n",
      " xbos xfld 1 hui ordentlicher absturz bitcoin t_up url: [1]\n",
      "\n",
      " xbos xfld 1 interessent wollte prozent nachlass auf mein angebot wie soll ich das bitte bewerkstelligen t_up emo_neg t_up url: [0]\n",
      "\n",
      " xbos xfld 1 i liked a t_up user_mention video t_up url achtung die kommen: [0]\n",
      "\n",
      " xbos xfld 1 neues aus astronomie und physik wurde gerade t_up url topthemen heute von t_up user_mention t_up user_mention: [1]\n",
      "\n",
      " xbos xfld 1 t_up user_mention nah oh sedapp t_up url: [0]\n",
      "\n",
      " xbos xfld 1 dieses video muss bis zur wahl wirklich jeder gesehen haben t_up url super: [1]\n",
      "\n",
      " xbos xfld 1 t_up user_mention wuut: [1]\n",
      "\n",
      " xbos xfld 1 t_up user_mention: [0]\n",
      "\n",
      " xbos xfld 1 finde dieses total doof so viele artikel kann man nicht mehr lesen: [2]\n",
      "\n",
      " xbos xfld 1 et adem aussi: [0]\n",
      "\n",
      " xbos xfld 1 nvidia g sync grafikkarten entwickler stellt anti tearing hardware vor mit einem neuen hardwaremodul namens t_up url: [1]\n",
      "\n",
      " xbos xfld 1 was ich unbedingt in dream team bros machen muss einkaufen x_x: [1]\n",
      "\n",
      " xbos xfld 1 twitter auf meinem laptop geht nicht mehr o.o: [0]\n",
      "\n",
      " xbos xfld 1 new post borussia fc bayern t_up url: [1]\n",
      "\n",
      " xbos xfld 1 gutschein updateedited t_up url bis zu eur rabatt bei dokter online t_up url: [1]\n",
      "\n",
      " xbos xfld 1 t_up user_mention t_up user_mention waass wer sagt sowas denn alter schwede nicht die jungs selber: [1]\n",
      "\n",
      " xbos xfld 1 was ihr labert ey mein whatsapp ging die ganze zeit ihr einfach nicht drauf: [1]\n",
      "\n",
      " xbos xfld 1 wat mein onkel hat gestern das mal geheiratet und niemand wusste davon: [1]\n"
     ]
    },
    {
     "name": "stdout",
     "output_type": "stream",
     "text": [
      "\n",
      " xbos xfld 1 angry birds go racing game i m angry birds universum erscheint am dezember nach dem erfrischend an t_up url: [1]\n",
      "\n",
      " xbos xfld 1 stilvoll parisbilder bearbeiten paris bildbearbeitung lightroom endlichkommichdazu t_up url: [1]\n",
      "\n",
      " xbos xfld 1 t_up user_mention da komm ich bei dir vorbei und schleuder dir ein schnitzel ins gesicht: [0]\n",
      "\n",
      " xbos xfld 1 plakate plakativ gedruckt unsere topangebot noch bis ende september t_up url: [1]\n",
      "\n",
      " xbos xfld 1 scheitert zusammenarbeit am geld t_up url: [1]\n",
      "\n",
      " xbos xfld 1 apple stellt video der iphone keynote bereit t_up url: [1]\n",
      "\n",
      " xbos xfld 1 t_up user_mention waab: [1]\n",
      "\n",
      " xbos xfld 1 t_up user_mention come on boys nicht zu hoch verlieren fcn sgefcn: [1]\n",
      "\n",
      " xbos xfld 1 t_up user_mention nur eins virals tot nicht mehr reden: [0]\n",
      "\n",
      " xbos xfld 1 stunden marathon sind nicht gerade spannend lieber scrubs schauen scrubs marathon leichtathletikwm: [2]\n",
      "\n",
      " xbos xfld 1 passiver bi mann schutterwald bi mann sucht aktive nicht zu jung t_up url: [1]\n",
      "\n",
      " xbos xfld 1 ich schlorender in de fress da hast de mehr wie de porta nigra trierisch: [1]\n",
      "\n",
      " xbos xfld 1 spenden zum monat der weltmission nehmen wir auch gerne online entgegen hier unsere projekte t_up url wms13: [1]\n",
      "\n",
      " xbos xfld 1 ablehnung durch vermieter ablehnung durch vermieter lehnt ein ver t_up url recht: [1]\n",
      "\n",
      " xbos xfld 1 t_up user_mention ein analyst sich mit pickelhaube vor einer karte des deutschen reichs ablichten lustig oder geschmacklos: [1]\n",
      "\n",
      " xbos xfld 1 wasch und andere chemischen reiniger bis zu reduziert werden das ist aktiver umweltschutz t_up url: [1]\n",
      "\n",
      " xbos xfld 1 t_up user_mention echt schlimm: [0]\n",
      "\n",
      " xbos xfld 1 wir sind bereit die hochzeitsgesellschaft kann kommen auch feiern mit personen sind bei uns kein problem t_up url: [1]\n",
      "\n",
      " xbos xfld 1 die onion rings von nicole waren leider kalt burger king t_up user_mention t_up url: [0]\n",
      "\n",
      " xbos xfld 1 live loyal die rich t_up url young buck video no place for me t_up url downsouth kush dirtydirty: [1]\n",
      "\n",
      " xbos xfld 1 t_up user_mention spionageprogramm tempora telekomunternehmen droht klage t_up url datenschutz: [1]\n",
      "\n",
      " xbos xfld 1 honka blockhaus modell lokki vorderansicht t_up url: [1]\n",
      "\n",
      " xbos xfld 1 t_up user_mention bitte kel: [1]\n",
      "\n",
      " xbos xfld 1 tk_wrep 8 t_up user_mention hallo letzter ferientag: [0]\n",
      "\n",
      " xbos xfld 1 t_up user_mention ists bei mir auch aber das es schon fertig ist nur dass man selbst vorerst nichts dort machen kann: [2]\n",
      "\n",
      " xbos xfld 1 ich rieche morgens nicht nach sondern nach dachte ihr solltet das wissen: [1]\n",
      "\n",
      " xbos xfld 1 schmerztabletten genommen unmotiviert hallo schultag: [0]\n",
      "\n",
      " xbos xfld 1 t_up user_mention deutsche telekom ihre kunden i m grossen stil t_up url: [1]\n",
      "\n",
      " xbos xfld 1 lahm kritisiert sammer dass dieser seine kritik hat aha: [1]\n",
      "\n",
      " xbos xfld 1 die anschaffungen ram neue tastatur neue maus vorher keine weiteren videospiele ich so: [1]\n",
      "\n",
      " xbos xfld 1 t_up user_mention begeisterung shakespeare wecken projekt shakespeare with deutsche t_up url: [1]\n",
      "\n",
      " xbos xfld 1 ich habe ein t_up user_mention positiv bewertet t_up url cry of fear die wahrheit simon: [1]\n",
      "\n",
      " xbos xfld 1 sprechstunde versicherungsfragen bei haus grund wilmersdorf uhr uhr lunch non solo vini t_up url: [1]\n",
      "\n",
      " xbos xfld 1 major mathe addieren folge5 t_up url t_up user_mention: [1]\n",
      "\n",
      " xbos xfld 1 sexkontakte dreamboy4090 aus halle bin dauergeil spontan und sportlich sch t_up url ard pro7: [1]\n",
      "\n",
      " xbos xfld 1 weiterbildung welche es gibt und welche absprachen mit dem arbeitgeber getroffen werden t_up url: [1]\n",
      "\n",
      " xbos xfld 1 t_up user_mention gomez hummels schweinie neuer bender: [0]\n",
      "\n",
      " xbos xfld 1 deutscher wetterdienst warnt region hannover vor starkem gewitter mit gilt bis uhr: [1]\n",
      "\n",
      " xbos xfld 1 t_up user_mention whoops und die lila blaue koigu tk_wrep 5 la ich sollte besser gar nicht erst hingehen: [0]\n",
      "\n",
      " xbos xfld 1 t_up user_mention indenpeschen berichte von autos rollern die beobachten provozieren bewegt euch nur in gruppen bleibt cool: [2]\n",
      "\n",
      " xbos xfld 1 t_up user_mention forum zur mariahilfer was sie verbessern t_up url t_up url via t_up user_mention: [1]\n",
      "\n",
      " xbos xfld 1 mis cholitos juanito el andino nach machart waldorf will lieb gehabt werden die puppe ihr kind t_up url: [1]\n",
      "\n",
      " xbos xfld 1 was zu erwarten war rosen protest an phantomtor: [1]\n",
      "\n",
      " xbos xfld 1 ja ich bin t_up url t_up url: [1]\n",
      "\n",
      " xbos xfld 1 t_up url meldet neuen anrufer unter als unbekannt t_up url: [1]\n",
      "\n",
      " xbos xfld 1 tausche gegen womo mit ahk u startseite biete oldtimer raritaet vauxhall viva sl super t_up url: [1]\n",
      "\n",
      " xbos xfld 1 vom einkauf habe ich gerade aus schokoladenpackungen mit wieder gemacht patricksblog: [0]\n",
      "\n",
      " xbos xfld 1 in unserer t_up user_mention diskutieren t_up user_mention und ich sprachliche segregation an schulen t_up url: [0]\n",
      "\n",
      " xbos xfld 1 t_up user_mention danke wir geben uns t_up emo_pos: [0]\n",
      "\n",
      " xbos xfld 1 betritt die i m bad winkt dem publikum tritt ab: [0]\n",
      "\n",
      " xbos xfld 1 min die sg lauttersctein mit einem langen angriff den distel von rechtsaussen sabschliesst zur: [1]\n",
      "\n",
      " xbos xfld 1 t_up user_mention pscht nicht hier geh doch bitte aufs klo dazu ja danke dir: [1]\n",
      "\n",
      " xbos xfld 1 anruf be city neu sexy versaut hemmungslos be city neu sexy versaut hemmungslos brandneu yenis in t_up url: [1]\n",
      "\n",
      " xbos xfld 1 danke man eigentlich viel zu wenig tk_wrep 8 danke danke: [1]\n",
      "\n",
      " xbos xfld 1 t_up user_mention t_up user_mention weil herzchen toll sind und auf chen enden und weil ich euch lieb habe: [0]\n",
      "\n",
      " xbos xfld 1 gift box geschenk bolo presente t_up url: [1]\n",
      "\n",
      " xbos xfld 1 motor aus angekommen: [0]\n",
      "\n",
      " xbos xfld 1 routentracing zu dem server zeigt jedenfalls nichts gutes an habe nirgendwo sonst probleme spiele aber auch kaum was anderes online: [1]\n",
      "\n",
      " xbos xfld 1 telmi nachrichten news urteil gegen exmafiaboss geschworene sprechen james whitey bulger schuldig t_up url: [1]\n",
      "\n",
      " xbos xfld 1 t_up user_mention du gibst mir immer so viel kraft und machst mich danke i love you: [0]\n",
      "\n",
      " xbos xfld 1 t_up user_mention grad feierabend wochenende urlaub gleich vier gute um gleich betrunken am pool zu liegen: [0]\n",
      "\n",
      " xbos xfld 1 t_up user_mention bitte den beitrag von t_up user_mention bei fb durch t_up emo_pos: [1]\n",
      "\n",
      " xbos xfld 1 hapi tahsin gebe gebe tahsin aahahh aksam aksam d: [1]\n",
      "\n",
      " xbos xfld 1 tk_wrep 5 t_up user_mention aus berlin t_up emo_pos danke dir auch liebe t_up emo_pos: [0]\n",
      "\n",
      " xbos xfld 1 t_up user_mention furchterregendes interview mit zur fehlenden zukunft wirksamer antibiotika gesundheit t_up url: [1]\n",
      "\n",
      " xbos xfld 1 ein mensch ist zu viel kein mensch zu wenig ich brauch ein mensch: [1]\n",
      "\n",
      " xbos xfld 1 jetzt defekt wir holen kostenlos ab berlinonline.de waschmasch t_up url t_up url: [1]\n",
      "\n",
      " xbos xfld 1 t_up user_mention: [0]\n",
      "\n",
      " xbos xfld 1 seit fucking monaten und anstatt das meine dir weniger werden werden sie tag tag immer mehr: [2]\n",
      "\n",
      " xbos xfld 1 was stronach bringt geld todesstrafe hoffnung t_up url: [1]\n",
      "\n",
      " xbos xfld 1 leute ernsthaft: [2]\n",
      "\n",
      " xbos xfld 1 stress exam deutsch telecomlille: [2]\n",
      "\n",
      " xbos xfld 1 t_up user_mention falsch keine fehlentscheidung er tritt sich nicht selbst ins bein ohne zu werden froger: [1]\n",
      "\n",
      " xbos xfld 1 orf1 desperate housewives srf2 top gear nzz format arte twin peaks wdr lokalzeit aus aachen: [1]\n",
      "\n",
      " xbos xfld 1 t_up user_mention voll romantisch und so traurig dabei keine ironie t_up url: [0]\n",
      "\n",
      " xbos xfld 1 i posted photos on facebook in the album die bilder aus dem top t_up url: [1]\n",
      "\n",
      " xbos xfld 1 t_up user_mention hier nochmal ofiziell wir haben i m abgeordnetenhaus berlin eine ag hass kurz agh berlin etabliert: [1]\n",
      "\n",
      " xbos xfld 1 mit erfolg zum erfolg agentur amateur t_up url: [1]\n",
      "\n",
      " xbos xfld 1 t_up user_mention was haftbefehl wohl: [1]\n",
      "\n",
      " xbos xfld 1 insolvenz droht firma rechtzeitig verkaufen t_up url: [1]\n",
      "\n",
      " xbos xfld 1 t_up user_mention ah super starke karikatur: [1]\n",
      "\n",
      " xbos xfld 1 tcl zoll led backlight fernseher jetzt nur euro rund euro gespart t_up url: [1]\n",
      "\n",
      " xbos xfld 1 t_up user_mention der vfb verpflichtet karim bin sehr nun ein spieler des vfb zu sein t_up url t_up url: [0]\n",
      "\n",
      " xbos xfld 1 connex hss bohrer spiralbohrer metallbohrer eur gebote angebotsende mittwoch aug142013 t_up url: [1]\n",
      "\n",
      " xbos xfld 1 t_up user_mention was ist es denn was kann es und wo hast du es her ist es ein neuer mixer: [1]\n",
      "\n",
      " xbos xfld 1 geile junge hure erika18 t_up url: [1]\n",
      "\n",
      " xbos xfld 1 i m berliner tempodrom startet in das von samsung: [1]\n",
      "\n",
      " xbos xfld 1 t_up user_mention man mal machen aber bitte die versorgen: [0]\n",
      "\n",
      " xbos xfld 1 t_up user_mention twitter macht fact: [1]\n"
     ]
    },
    {
     "name": "stdout",
     "output_type": "stream",
     "text": [
      "\n",
      " xbos xfld 1 t_up user_mention falls karyu dann angelo verlassen: [1]\n",
      "\n",
      " xbos xfld 1 t_up user_mention follback: [1]\n",
      "\n",
      " xbos xfld 1 t_up user_mention puh freie mitarbeit ist hart toi toi toi da kommt mit sicherheit nochmal was: [2]\n",
      "\n",
      " xbos xfld 1 t_up user_mention ebru was mach ich falsch bei deinem neuen video kommt bei mir wieder kein ton t_up emo_neg: [0]\n",
      "\n",
      " xbos xfld 1 vorbildlich costa rica will seine zoos bis aus t_up url tierschutz: [1]\n",
      "\n",
      " xbos xfld 1 t_up user_mention haha auch nicht schlecht xd naja nicht fand sie iwie immer cool lustig frech xd hat nur doofe halt xd haha: [2]\n",
      "\n",
      " xbos xfld 1 t_up url fabelhaft gebrochene karrieren: [1]\n",
      "\n",
      " xbos xfld 1 t_up user_mention why no phone again: [1]\n",
      "\n",
      " xbos xfld 1 t_up user_mention gaul abis: [0]\n",
      "\n",
      " xbos xfld 1 schade bei vivas bully beatdown wird garnicht der typ aus schuh des manitu zusammengeschlagen: [1]\n",
      "\n",
      " xbos xfld 1 streetstars vergibt unter allen vip bewerbungen vip auf den tuningdays austria mehr infos auf t_up url: [1]\n",
      "\n",
      " xbos xfld 1 woods auf nach gespielten bahnen liegt er beim wgc bridgestone invitational die runde come on tiger da geht was: [2]\n",
      "\n",
      " xbos xfld 1 t_up user_mention einsteigen in den hyperloop mit von san francisco nach la in minuten leider bisher nur ein entwurf t_up url: [1]\n",
      "\n",
      " xbos xfld 1 t_up user_mention nein aber bei der unter geht das heute wirst du dort wohl etwas geduld brauchen: [1]\n",
      "\n",
      " xbos xfld 1 tk_wrep 4 t_up user_mention die wickeltasche wird pro kind kleiner und du bei manchem gelassener aber was bei kind1: [1]\n",
      "\n",
      " xbos xfld 1 lacher heute morgen bild digital titelt zuviel wissen macht dumm t_up url: [1]\n",
      "\n",
      " xbos xfld 1 facebook jugendliche posten zeit online t_up url: [1]\n",
      "\n",
      " xbos xfld 1 t_up user_mention diakonie hartz iv regelsatzbemessung neben der caritas und dem w t_up url: [1]\n",
      "\n",
      " xbos xfld 1 t_up user_mention t_up user_mention t_up user_mention isch krieg langsam plaque escht: [0]\n",
      "\n",
      " xbos xfld 1 bosan sungguh kelas english nie haihh: [0]\n",
      "\n",
      " xbos xfld 1 ich freu mich irgendwie auf morgen keine ahnung wieso: [2]\n",
      "\n",
      " xbos xfld 1 gerne einmal aufwachen ohne kopfschmerzen halsschmerzen bauchschmerzen gliederschmerzen doofen gedanken: [1]\n",
      "\n",
      " xbos xfld 1 hardy mader koll gmbh aus reutlingen stuttgarter st t_up url: [1]\n",
      "\n",
      " xbos xfld 1 amazon macht weiter verlust t_up url: [1]\n",
      "\n",
      " xbos xfld 1 live trend last min t_up emo_neg most wanted keyword demut insgeheim denkt wahrlich: [1]\n",
      "\n",
      " xbos xfld 1 seven of nine angesichts der ihrer beziehung ich eher einen mord vorhergesagt als eine ehe: [1]\n",
      "\n",
      " xbos xfld 1 kurios fernseher aus fenster geworfen t_up url: [1]\n",
      "\n",
      " xbos xfld 1 t_up user_mention streetphotography urban connections der erwartete zufall hansen t_up url: [1]\n",
      "\n",
      " xbos xfld 1 t_up user_mention t_up user_mention einzelhandel mehr in den florieren denn die alten menschen nehmen zu auch banken ins dorf: [1]\n",
      "\n",
      " xbos xfld 1 t_up user_mention nicht viel mit furry avatar bei dir: [0]\n",
      "\n",
      " xbos xfld 1 und jetzt schlafschafzeit endlich gute nacht welt t_up emo_pos: [0]\n",
      "\n",
      " xbos xfld 1 t_up user_mention oo happy day oohappy day happy happy day day happy day was ein tag danke danke my hero: [0]\n",
      "\n",
      " xbos xfld 1 t_up user_mention freiwillig: [1]\n",
      "\n",
      " xbos xfld 1 heute und videoday geschaut war voll toll ytitty beste leben ytitty haltdeinmaul videoday videoday2013: [0]\n",
      "\n",
      " xbos xfld 1 t_up user_mention ach ja ich wollte dich ja auch nicht mehr t_up emo_pos ich freue mich auch schon auf freitag t_up emo_pos: [0]\n",
      "\n",
      " xbos xfld 1 feiern zwischen rot und nennen sie deutschlands weinfeste am wochenende startet t_up url nachrichten: [1]\n",
      "\n",
      " xbos xfld 1 ultimative langeweile ich sterbe mooah d: [0]\n",
      "\n",
      " xbos xfld 1 vip mitgliedschaft t_up url: [1]\n",
      "\n",
      " xbos xfld 1 t_up user_mention eine tolle auswahl an calvin klein t_up url geschenkidee parfume: [1]\n",
      "\n",
      " xbos xfld 1 t_up user_mention uk fahndet nach george orwell by t_up user_mention unbedingt lesen t_up url: [1]\n",
      "\n",
      " xbos xfld 1 t_up user_mention willkommen in tl kein lieber nehmt was ihr wollt nur mich nicht zu ernst t_up url: [1]\n",
      "\n",
      " xbos xfld 1 t_up user_mention wobei reform ja nicht nur von neoliberaler seite her ist: [1]\n",
      "\n",
      " xbos xfld 1 ich habe ein t_up user_mention positiv bewertet t_up url minecraft week hd nur mit dem kevin minecraft week: [1]\n",
      "\n",
      " xbos xfld 1 t_up user_mention danke jetzt is aber schluss mit lustig weil ich ins muss der wecker klingelt um halb schlaf: [2]\n",
      "\n",
      " xbos xfld 1 nicht gut lt: [1]\n",
      "\n",
      " xbos xfld 1 kroatien seahelp rettet schwerverletzte t_up url: [1]\n",
      "\n",
      " xbos xfld 1 eingekesselte polizisten nix gut o_0: [0]\n",
      "\n",
      " xbos xfld 1 blendend und imposant dieses steil am hang gebaute danhaus t_up url: [0]\n",
      "\n",
      " xbos xfld 1 t_up user_mention voll: [0]\n",
      "\n",
      " xbos xfld 1 wieder kleine t_up emo_pos die waren zu t_up emo_pos t_up url: [0]\n",
      "\n",
      " xbos xfld 1 oberligist hammer spvg hat in gewonnen der treffer fiel t_up url: [1]\n",
      "\n",
      " xbos xfld 1 ich so aufm sofa vor dem fernseher go gladbach go gladbach go gladbach: [0]\n",
      "\n",
      " xbos xfld 1 dj hochzeit buchen bei fischer spezial t_up url: [1]\n",
      "\n",
      " xbos xfld 1 zeitspiel zeitspiel jenniferrostock jenniferweist spack festival sfoa13 t_up url: [1]\n",
      "\n",
      " xbos xfld 1 mein partner mit der kalten: [0]\n",
      "\n",
      " xbos xfld 1 t_up user_mention mit captain typekit externe schriften in wordpress nutzen t_up url wordpress: [1]\n",
      "\n",
      " xbos xfld 1 frankfurt usgeldpolitik macht dem dax zu schaffen t_up url geld finanzen: [1]\n",
      "\n",
      " xbos xfld 1 t_up user_mention t_up user_mention oo derek stiles un cora allein jennifer: [0]\n",
      "\n",
      " xbos xfld 1 vielen dank liebe dass die einzelfahrscheine schon wieder teurer geworden sind langsam wirds pervers o.o: [2]\n",
      "\n",
      " xbos xfld 1 tod des geliebten haustiers trauerratgeber von eltern eltern von alfred f t_up url via t_up user_mention: [1]\n",
      "\n",
      " xbos xfld 1 schwerpunkt ausstellungswesen t_up emo_neg generaldirektion kulturelles erbe rheinlandpfalz t_up url: [1]\n",
      "\n",
      " xbos xfld 1 t_up user_mention oha voci schlimm han det immer aschiss zum lerne: [2]\n",
      "\n",
      " xbos xfld 1 bgh unverlangt versandte empfehlungsemails gleichen unverlangt versandten werbeemails t_up url: [1]\n",
      "\n",
      " xbos xfld 1 t_up user_mention studie zeigt misstrauen gegen politik parteien parlamenten t_up url: [1]\n",
      "\n",
      " xbos xfld 1 arminia bielefeld keine schnelle entscheidung bei kwame nsor weiterhin als voraussetzung den tr t_up url: [1]\n",
      "\n",
      " xbos xfld 1 tipico soccer tipico de news t_up emo_neg van marwijk schaut nicht auf namen t_up url: [1]\n",
      "\n",
      " xbos xfld 1 migranten in deutschland stand heute noch schlimmer t_up url islam afrika fremde schweiz auch soweit: [1]\n",
      "\n",
      " xbos xfld 1 t_up user_mention interessant.ich muss unbedingt zur: [0]\n",
      "\n",
      " xbos xfld 1 fahrtkostenerstattung wir suchen sie diabetiker bzw menschen mit blutzuckerwerten: [1]\n",
      "\n",
      " xbos xfld 1 was han ich echt jetzt verbroche fface: [0]\n",
      "\n",
      " xbos xfld 1 smartphone samsung galaxy s3 ii mini ohne vertrag ohne simlook neu t_up url: [1]\n",
      "\n",
      " xbos xfld 1 t_up user_mention wieso sollten man leute dummheit belohnen: [0]\n",
      "\n",
      " xbos xfld 1 repost neuer alg iiweiterbewilligungsantrag gegen bundesdatenschutzgesetz t_up url: [1]\n",
      "\n",
      " xbos xfld 1 peinliche geschichte bei einer predigt t_up url: [1]\n",
      "\n",
      " xbos xfld 1 htc stellte zwei neue smartphones der desirefamilie vor davon erscheint vorerst jedoch nur eins hier in t_up url: [1]\n",
      "\n",
      " xbos xfld 1 t_up user_mention t_up user_mention man sollte logorrhoe dem herren zu ehre in bartotitis umbenennen d: [0]\n",
      "\n",
      " xbos xfld 1 premium audio marken shop elektronik foto online bei amazon.de einkaufen t_up url via: [1]\n",
      "\n",
      " xbos xfld 1 t_up user_mention in die hand ins gesicht kinder zum weinen animieren computer aus mann kommt heim: [1]\n",
      "\n",
      " xbos xfld 1 jesse eisenberg: [1]\n",
      "\n",
      " xbos xfld 1 t_up user_mention aufzwingen wollen: [1]\n",
      "\n",
      " xbos xfld 1 t_up user_mention jede nacht aufs neue einsam i m bett: [0]\n",
      "\n",
      " xbos xfld 1 diabetes tagebuch blutzucker richtig t_up url diabetes dblogs: [1]\n",
      "\n",
      " xbos xfld 1 programmstart e wie einfach mobilfunk affiliate marketing affiliateblog.de t_up url e wie einfach ist mit einem ne: [1]\n",
      "\n",
      " xbos xfld 1 mein cousin gerade mal kommt mir entgegen gelaufen als ich in die gekommen bin und weint als ich wieder gegangen bin oh nein t_up emo_neg: [2]\n",
      "\n",
      " xbos xfld 1 fb katholische kirche schreibt missbrauchsstudie neu aus anfang hatte die katholische k t_up url t_up user_mention: [1]\n",
      "\n",
      " xbos xfld 1 t_up user_mention total war nur halt komplett besoffen nach einer runde minuten: [0]\n",
      "\n",
      " xbos xfld 1 soothing region kitchen t_up url classic kitchen ideas country kitchen design: [1]\n",
      "\n",
      " xbos xfld 1 t_up user_mention t_up user_mention bucks dilemma: [1]\n",
      "\n",
      " xbos xfld 1 deutschgriechische versammlung kommunale partnerschaften t_up url: [1]\n"
     ]
    },
    {
     "name": "stdout",
     "output_type": "stream",
     "text": [
      "\n",
      " xbos xfld 1 porsche tuning umbau heck stabilisieren t_up url: [1]\n",
      "\n",
      " xbos xfld 1 t_up user_mention nachdem ich deiner oma vor den kopf musstr willste noch n geschenk: [0]\n",
      "\n",
      " xbos xfld 1 was anziehen welche tasche nehmen wie was wo meh c: [2]\n",
      "\n",
      " xbos xfld 1 play together brickforce mist zu weit vom mikro weg t_up url t_up user_mention: [1]\n",
      "\n",
      " xbos xfld 1 und wenn der tweet auch noch so schlecht ist von meinen homies aus dem fdportsverband gibts immer nen stern oh: [0]\n",
      "\n",
      " xbos xfld 1 kinderkanal piets irre pleiten motorvision motorheads n24 nachrichten lucky fred ntv nachrichten rbb rbb aktuell: [1]\n",
      "\n",
      " xbos xfld 1 tk_wrep 7 t_up user_mention ich brauche ein bier: [0]\n",
      "\n",
      " xbos xfld 1 t_up user_mention nsa chef keith alexander verteidigt und fordert ende der t_up url nd: [1]\n",
      "\n",
      " xbos xfld 1 mir sitzt einer mit nem it should was der wohl n beruf hat: [0]\n",
      "\n",
      " xbos xfld 1 t_up user_mention und genug gezappelt t_up emo_pos kaffee jetzt gut oder: [0]\n",
      "\n",
      " xbos xfld 1 guten wochenstart euch allen aus t_up url: [0]\n",
      "\n",
      " xbos xfld 1 kostenexplosion bei bil dollar uskriegsinvaliden den drang zu t_up url: [1]\n",
      "\n",
      " xbos xfld 1 brauch ablenkung: [1]\n",
      "\n",
      " xbos xfld 1 faule werden neue ezbchef draghi definition notleidender kredite muss harmonisiert werden vor min echtzeitnachricht: [1]\n",
      "\n",
      " xbos xfld 1 t_up user_mention was sich einmal fest gesetzt hat: [1]\n",
      "\n",
      " xbos xfld 1 ich merk schon auf adn man mich noch muss den avatar tauschen hitzekoller: [0]\n",
      "\n",
      " xbos xfld 1 den herrn und ruft seinen namen aus seine taten allen t_up url: [1]\n",
      "\n",
      " xbos xfld 1 t_up user_mention wenn peter ramsauer i m tv spricht erwarte ich immer dass der ziegenpeter i m hintergrund eine kuh vorbei treibt: [2]\n",
      "\n",
      " xbos xfld 1 t_up user_mention ein tritt fehlt mir die kraft dazu ich nicht erst seit tagen sondern seit einem jahr dachte sind komplett: [1]\n",
      "\n",
      " xbos xfld 1 t_up url schauen sie die kleinen cabrios an null charme null image null fun der lotus hat alles ihr nachbar platzt vor neid: [2]\n",
      "\n",
      " xbos xfld 1 nowplaying die neue scheibe von diary t_up url yuppiduppi aber das sagte ich ja schon mal: [1]\n",
      "\n",
      " xbos xfld 1 hat jemand schon apple abgeschlossen iphone gekauft bei der telekom geht das auch i m apple store: [1]\n",
      "\n",
      " xbos xfld 1 t_up user_mention und ich hab ian getroffen der kerl ist einfach genial man muss ian mal live gesehen haben um seine psyche zu verstehen xd: [2]\n",
      "\n",
      " xbos xfld 1 t_up user_mention nichts: [0]\n",
      "\n",
      " xbos xfld 1 oh mann o mann richtig fett i m web anlegen jegliche und daten email klau vermeiden t_up url: [1]\n",
      "\n",
      " xbos xfld 1 t_up user_mention naja dazu brauch man aber titten die alten notgeilen schachteln mit will doch niemand xd: [2]\n",
      "\n",
      " xbos xfld 1 t_up user_mention oben unten: [1]\n",
      "\n",
      " xbos xfld 1 wer muss bis in krefeld arbeiten geht dann direkt ins fitnesstudio und muss dann nachts zu hause die: [1]\n",
      "\n",
      " xbos xfld 1 t_up user_mention viel viel koffein wenig wenig: [0]\n",
      "\n",
      " xbos xfld 1 t_up url fukushima betroffen starkes erdbeben i m nordosten japans t_up url: [1]\n",
      "\n",
      " xbos xfld 1 ndr tatort ntv nachrichten swr fahr mal hin wdr weltweit zdfkultur ab zdfneo scott bailey: [1]\n",
      "\n",
      " xbos xfld 1 t_up user_mention jajaj va con amorr b: [0]\n",
      "\n",
      " xbos xfld 1 t_up user_mention sieht gut aus hier mit sonne d berlin tk_wrep 5 t_up user_mention t_up user_mention: [0]\n",
      "\n",
      " xbos xfld 1 gott sei dank das eintracht sge: [2]\n",
      "\n",
      " xbos xfld 1 bei einer in dossenheim bei heidelberg sind drei menschen ums leben gekommen und weitere verletzt worden quelle polizei: [1]\n",
      "\n",
      " xbos xfld 1 t_up user_mention obama sucht nach russland warnt vor t_up url: [1]\n",
      "\n",
      " xbos xfld 1 umfragen belegen sieg des in orf konfrontation t_up url apa ots bot: [1]\n",
      "\n",
      " xbos xfld 1 kg geballte lust duisburg nach langer zeit endlich wieder ich marie cm kg jahre t_up url: [1]\n",
      "\n",
      " xbos xfld 1 t_up user_mention manch einer entscheidet lieber vom schreibtisch aus wer sich wovon diskriminiert zu hat ganz ohne nachfrage: [1]\n",
      "\n",
      " xbos xfld 1 t_up user_mention seo mythen aufgedeckt von exgoogle leuten t_up url: [1]\n",
      "\n",
      " xbos xfld 1 deutsches recht pff aber wehe einer den staat sterntv: [1]\n",
      "\n",
      " xbos xfld 1 ohne abschirmung sollten verboten werden: [1]\n",
      "\n",
      " xbos xfld 1 t_up user_mention bin vielleicht etwas neue schwiegertochter wird vorgestellt t_up emo_pos: [0]\n",
      "\n",
      " xbos xfld 1 t_up user_mention heey na voll konnte heute nicht zahnarzt: [1]\n",
      "\n",
      " xbos xfld 1 informationen unternehmer aus wiensie ihr unternehmen professionell i m internet error: [1]\n",
      "\n",
      " xbos xfld 1 ard monitor zdf heutejournal geheimnisse der mdr mdr aktuell motorvision top gear ndr ndr aktuell: [1]\n",
      "\n",
      " xbos xfld 1 warum wird zdflogin nicht i m hauptprogramm ausgestrahlt diese debatte geht jeden etwas an auch die generation: [1]\n",
      "\n",
      " xbos xfld 1 monopolkommission notwendigkeit eines systemwechsels beim eeg t_up url: [1]\n",
      "\n",
      " xbos xfld 1 superhappy mit meiner neuen kettenkombi handmade by freaky t t_up url: [0]\n",
      "\n",
      " xbos xfld 1 t_up user_mention nicht gehen: [2]\n",
      "\n",
      " xbos xfld 1 t_up user_mention holstein kiel gegen wacker burghausen live auf ndr.de t_up url liga3 holstein: [1]\n",
      "\n",
      " xbos xfld 1 der rockmusiker wurde jahre alt lou reed laut medienberichten gestorben t_up url: [1]\n",
      "\n",
      " xbos xfld 1 beziehungsstatus diese eine liebe wird nie zu ende gehen: [2]\n",
      "\n",
      " xbos xfld 1 ernsthaft: [2]\n",
      "\n",
      " xbos xfld 1 t_up user_mention tu das t_up emo_pos war nicht sonderlich lang: [1]\n",
      "\n",
      " xbos xfld 1 t_up user_mention was soll eine weinplattform erste feedbacks sind drin t_up url: [1]\n",
      "\n",
      " xbos xfld 1 barkredit zb euro kredit bei onlinekredit t_up url mit kreditrechner rate selbst bestimmen: [1]\n",
      "\n",
      " xbos xfld 1 t_up user_mention boah tztztz vergesslich: [0]\n",
      "\n",
      " xbos xfld 1 informationen rechts unten t_up url: [1]\n",
      "\n",
      " xbos xfld 1 t_up user_mention liebe t_up user_mention passagiere die freundliche zugbegleiterin in unserem zug kann gar nichts dass euer zug: [2]\n",
      "\n",
      " xbos xfld 1 us kh korea fashionblack women men knit arm warmer fingerless long mitten gloves t_up url fashion gloves: [1]\n",
      "\n",
      " xbos xfld 1 sommer sonne sonnenschein was will frau mehr t_up emo_pos: [0]\n",
      "\n",
      " xbos xfld 1 t_up user_mention schneller besser smartphoneneuheiten i m november t_up user_mention t_up url mobile: [1]\n",
      "\n",
      " xbos xfld 1 keine verpflichtung des vermieters zur vorlage der dem contractor eines von dessen t_up url: [1]\n",
      "\n",
      " xbos xfld 1 traum: [1]\n",
      "\n",
      " xbos xfld 1 t_up user_mention bei der cdu mindestlohn dass trotzdem weiterhin geringere gezahlt werden kein scherz eben bei: [2]\n",
      "\n",
      " xbos xfld 1 iran krieg in syrien zu mehr terrorismus teheran dpa ein gegen syrien nach eins t_up url: [1]\n",
      "\n",
      " xbos xfld 1 once upon a time es war einmal die komplette erste staffel t_up url best: [0]\n",
      "\n",
      " xbos xfld 1 fast jeder haushalt macht pauschalurlaub t_up url: [1]\n",
      "\n",
      " xbos xfld 1 t_up user_mention nach minuten sowieso zu spielen wenns gegen dresden schief geht wird die presse anfangen bujo: [1]\n",
      "\n",
      " xbos xfld 1 rieke rasse mischling geburtsdatum ca aufnahme i m th vermittelt am rieke war tage bei uns: [1]\n",
      "\n",
      " xbos xfld 1 t_up user_mention love does not dominate it cultivates johann wolfgang von goethe: [1]\n",
      "\n",
      " xbos xfld 1 t_up user_mention einseitige asymmetrische kommunikation finde bessere bildung wichtiger twitter kann z.b blabla oder nachrichtenquelle sein: [1]\n",
      "\n",
      " xbos xfld 1 i posted photos on facebook in the album aus den bergen t_up url: [1]\n",
      "\n",
      " xbos xfld 1 tk_wrep 4 t_up user_mention nicht nur eins d: [0]\n",
      "\n",
      " xbos xfld 1 das wetter t_up user_mention macht kaputt was euch nachts wach liegen: [1]\n",
      "\n",
      " xbos xfld 1 respekt steinbrueck bewegungjetzt: [2]\n",
      "\n",
      " xbos xfld 1 t_up user_mention hoffe keinen: [2]\n",
      "\n",
      " xbos xfld 1 boom last dessert searcyschefs searcys gherkinkitchen t_up url: [1]\n",
      "\n",
      " xbos xfld 1 tatort da war er halt voll pissed t_up url derfreitag: [0]\n",
      "\n",
      " xbos xfld 1 besuch bei max rengli dem schweizer holzbauer schweizer t_up url: [1]\n",
      "\n",
      " xbos xfld 1 machen sie ihre praktisch vom aus t_up url: [0]\n",
      "\n",
      " xbos xfld 1 t_up user_mention britischer premier steckte hinter drohungen gegen den guardian t_up url: [1]\n",
      "\n",
      " xbos xfld 1 t_up user_mention zurecht: [1]\n",
      "\n",
      " xbos xfld 1 eur eine kamera aus der kasse sportlich csu hassknechten: [1]\n",
      "\n",
      " xbos xfld 1 t_up user_mention patient m ich bin skeptisch schneider hat keine bundesligaerfahrung er kennt aber den verein der jugend eine chance geben: [1]\n",
      "\n",
      " xbos xfld 1 t_up user_mention haste was biste was haste biste: [0]\n",
      "\n",
      " xbos xfld 1 t_up user_mention am besten sie in der versenkung verschwinden lassen: [1]\n",
      "\n",
      " xbos xfld 1 t_up user_mention kreative idee nur sind viele kronkorken eher silber mit was drauf zum beispiel schade: [1]\n"
     ]
    },
    {
     "name": "stdout",
     "output_type": "stream",
     "text": [
      "\n",
      " xbos xfld 1 kleine geschenke erhalten die freundschaft originelle geschenke t_up url: [1]\n",
      "\n",
      " xbos xfld 1 bretonische t_up url: [1]\n",
      "\n",
      " xbos xfld 1 fliege tot panda nervigesding: [0]\n",
      "\n",
      " xbos xfld 1 t_up user_mention echt was denn: [0]\n",
      "\n",
      " xbos xfld 1 sie das beste angebot blaue hochzeitskleid was ein t_up url: [1]\n",
      "\n",
      " xbos xfld 1 t_up user_mention verstand ja herz ich bau keinen mist versprochen: [2]\n",
      "\n",
      " xbos xfld 1 t_up user_mention t_up user_mention ganz toller auftritt i m t_up user_mention und herzliche gratulation zum titel alles gute: [0]\n",
      "\n",
      " xbos xfld 1 hotpaar37 regensburg attraktives m besuchen gegen tg den solventen herren oder kleine he t_up url: [1]\n",
      "\n",
      " xbos xfld 1 t_up user_mention bundestagswahl prozent der wahlberechtigten sind nicht i m bundestag vertreten btw13 cdu spd linke t_up url: [1]\n",
      "\n",
      " xbos xfld 1 t_up user_mention schraibn o bin in letzter zeit viel mit anderen leuten am: [0]\n",
      "\n",
      " xbos xfld 1 schmuck sal y limon armreif seit verzaubert sal y limon mit verspielten kreationen spannende l t_up url: [1]\n",
      "\n",
      " xbos xfld 1 t_up user_mention ich danke t_up emo_pos: [0]\n",
      "\n",
      " xbos xfld 1 nachrichten jenny elverselbertzhag t_up url: [1]\n",
      "\n",
      " xbos xfld 1 also gleich irgendwann wenns fertig geladen ist update android: [1]\n",
      "\n",
      " xbos xfld 1 t_up user_mention verzweifelte rettungsversuche: [0]\n",
      "\n",
      " xbos xfld 1 feuerwehr aufmerksame nachbarn t_up url: [1]\n",
      "\n",
      " xbos xfld 1 neuschwanstein castle germany t_up url: [1]\n",
      "\n",
      " xbos xfld 1 aktien euro bernanke sorgt katerstimmung bei daxanlegern die unklarheit den t_up url aktuell: [1]\n",
      "\n",
      " xbos xfld 1 unternehmer wollen linke mit deren eigenen waffen schlagen t_up user_mention t_up url ohne hans j klassenkampf von oben: [1]\n",
      "\n",
      " xbos xfld 1 t_up user_mention man kann aber auch mit der db reisen z.b mit einer bahncard sparpreisen t_up url: [0]\n",
      "\n",
      " xbos xfld 1 david cameron wirft guardian der nationalen sicherheit vor spiegel online t_up url: [1]\n",
      "\n",
      " xbos xfld 1 offizielle erzielen erstmals seit langem t_up emo_neg das hande t_up url t_up url: [1]\n",
      "\n",
      " xbos xfld 1 mobile document viewer heute gratis t_up url: [1]\n",
      "\n",
      " xbos xfld 1 instandhaltung erfolgreich abgeschlossen: [1]\n",
      "\n",
      " xbos xfld 1 unser versprechen an die wir tauschen ihre wertlosen euro gegen kostbare dmark september afd: [1]\n",
      "\n",
      " xbos xfld 1 music voll dramatisch lol lptlive: [0]\n",
      "\n",
      " xbos xfld 1 t_up user_mention t_up user_mention t_up user_mention schreibfehler streiche heiter setze traurig: [2]\n",
      "\n",
      " xbos xfld 1 t_up user_mention richtige nazis oder nur leicht kaputt: [0]\n",
      "\n",
      " xbos xfld 1 on air pierre mertien kein stern blueht eine nacht: [0]\n",
      "\n",
      " xbos xfld 1 gutschein welcher auch auf bereits reduzierte ware anwendbar ist mit diesem gutschein bis zu raba t_up url: [1]\n",
      "\n",
      " xbos xfld 1 oke gut t_up emo_pos chantal d gehtt doch war dochh garnichtmal soo schwerr t_up url: [0]\n",
      "\n",
      " xbos xfld 1 t_up user_mention t_up user_mention ach so: [0]\n",
      "\n",
      " xbos xfld 1 fitness das richtige verhalten an badeseen freibad und co pack die badehose ein nimm dein kleines s t_up url swr: [1]\n",
      "\n",
      " xbos xfld 1 exbvbcoach ottmar hitzfeld beendet nach der wm seine trainerkarriere t_up url: [2]\n",
      "\n",
      " xbos xfld 1 trick or treat dann tricksen wir eben oft sind die optisch beeindruckendsten kreationen einfacher zu machen t_up url: [2]\n",
      "\n",
      " xbos xfld 1 wegen i m pcbereich acer pusht nichtwindowssysteme t_up url itbusiness it onlinemarketing webnic: [1]\n",
      "\n",
      " xbos xfld 1 das war ein guter abend mit dietrich wersich freue mich schon auf den hamburg wahlkampf mit ihm t_up url: [1]\n",
      "\n",
      " xbos xfld 1 chemiewaffeneinsatz war angeblich nicht durch assad genehmigt t_up url wer bestraft wen womit mit welchen folgen: [1]\n",
      "\n",
      " xbos xfld 1 t_up user_mention hallo nichtmitglieder von facebook leider nicht sehen anders verlinken: [1]\n",
      "\n",
      " xbos xfld 1 t_up user_mention cool keine weiteren fragen t_up emo_pos: [1]\n",
      "\n",
      " xbos xfld 1 fun fact als t_up user_mention damals in dem video von urlaubsfotos geredet hat hab ich mich gefragt warum alle fotos wollen: [0]\n",
      "\n",
      " xbos xfld 1 t_up user_mention ooh sandy danke vielmal soones bild hammer mich nervt i m moment alles aber die zwei nie t_up emo_pos: [0]\n",
      "\n",
      " xbos xfld 1 egal wie alt ma is das ma d t_up user_mention t_up url: [0]\n",
      "\n",
      " xbos xfld 1 t_up user_mention felipe du schlitzohr sie in die liga freeshinji: [0]\n",
      "\n",
      " xbos xfld 1 nach bauernart sehr bist du sicher du doch was beim brauche meinen schmerz: [0]\n",
      "\n",
      " xbos xfld 1 michelle wetzel will smith tauscht lebenszeit gegen zeitreise t_up url: [1]\n",
      "\n",
      " xbos xfld 1 was passiert wenn ein american football coach nach england geht um soccer coach zu werden t_up url: [1]\n",
      "\n",
      " xbos xfld 1 t_up user_mention t_up user_mention polfilter was denn einen muss nicht unbedingt der teuerste sein oder gern amazon wegen sd: [2]\n",
      "\n",
      " xbos xfld 1 t_up user_mention die spielen nicht i m prenzlauer berg t_up user_mention: [1]\n",
      "\n",
      " xbos xfld 1 au der blauen donau beeindruckend war belgrad t_up url: [1]\n",
      "\n",
      " xbos xfld 1 leistung ich niemals unschuldsvermutung: [2]\n",
      "\n",
      " xbos xfld 1 t_up user_mention moin du schaf t_up emo_pos t_up user_mention: [0]\n",
      "\n",
      " xbos xfld 1 t_up user_mention aber sicher gut aus t_up emo_pos: [0]\n",
      "\n",
      " xbos xfld 1 t_up user_mention der t_up user_mention zu beautiful war sehr gut wmfra: [0]\n",
      "\n",
      " xbos xfld 1 lets play the whispered world feuer frei t_up url t_up user_mention: [1]\n",
      "\n",
      " xbos xfld 1 sofortkauf mark silber hessen ludwig ii fast sehr gebraucht kaufen bei hood.de t_up url: [1]\n",
      "\n",
      " xbos xfld 1 t_up user_mention ihr bitte gute laune sorgen die ich eigentlich schon habe und best song ever von one direction spielen wunschhits t_up emo_pos: [0]\n",
      "\n",
      " xbos xfld 1 ungesund gekaufter: [1]\n",
      "\n",
      " xbos xfld 1 t_up user_mention vielen dank die nette war sehr interessant t_up emo_pos twagdeburg: [0]\n",
      "\n",
      " xbos xfld 1 schweiz kritisieren energiestrategie t_up url: [1]\n",
      "\n",
      " xbos xfld 1 ausgezeichnete angebote hitachi pata ata ide laptop festplatte warum warten sie klicken sie jetzt t_up url: [1]\n",
      "\n",
      " xbos xfld 1 schulschluss endlich: [2]\n",
      "\n",
      " xbos xfld 1 t_up user_mention kurzfristig wenig langfristig bildung: [1]\n",
      "\n",
      " xbos xfld 1 etappenziel um erreicht trafoi tagesleistung km hm bergauf hm bergab transalp mtb: [1]\n",
      "\n",
      " xbos xfld 1 t_up user_mention fantastisch unendlich wow: [0]\n",
      "\n",
      " xbos xfld 1 video austin powers das was ihre zu bieten hat t_up url: [1]\n",
      "\n",
      " xbos xfld 1 hubschrauber i m einsatz bei fc carl zeiss jena sorge um jakob pieles zeitung t_up url jena fcc: [1]\n",
      "\n",
      " xbos xfld 1 kleine rat: [1]\n",
      "\n",
      " xbos xfld 1 t_up user_mention die t_up user_mention immerhin nicht genannt worden also kein grund pah: [1]\n",
      "\n",
      " xbos xfld 1 absolut: [1]\n",
      "\n",
      " xbos xfld 1 kleinanzeigen alte kacheluntersetzer aus ceramic bestimmt mind jahre alt i t_up url kaufen markt.d: [1]\n",
      "\n",
      " xbos xfld 1 franzosen behalten niedriges renteneintrittsalter t_up url: [1]\n",
      "\n",
      " xbos xfld 1 kavlak testspiel gegen griechenland aus t_up url: [1]\n",
      "\n",
      " xbos xfld 1 t_up user_mention wow was musstest du machen xx: [0]\n",
      "\n",
      " xbos xfld 1 mir wurde statt flasche falsche vorgeschlagen oohh the irony: [1]\n",
      "\n",
      " xbos xfld 1 stuttgarter zeitung senioren hinter gitter experten empfehlen altersgerechten umbau der t_up url: [1]\n",
      "\n",
      " xbos xfld 1 keep me sprung good night like t_up url: [1]\n",
      "\n",
      " xbos xfld 1 t_up user_mention oh nein hast recht aber zu dd freu mich schon: [0]\n",
      "\n",
      " xbos xfld 1 und endlich auf weltbild das kapitel von aneba die t_up url fantasy ebook roman: [1]\n",
      "\n",
      " xbos xfld 1 t_up user_mention t_up user_mention hehe hier ich ersetze grad aus eben solchen cola light wieder durch maracujaschorle: [0]\n",
      "\n",
      " xbos xfld 1 oh oh die batterien sind leer das wird meinem schatz nicht gefallen: [1]\n",
      "\n",
      " xbos xfld 1 verfickte solche spasten t_up url: [1]\n",
      "\n",
      " xbos xfld 1 t_up user_mention wusste nicht dass nk comic war habe ihn in buchform gelesen kam das: [1]\n",
      "\n",
      " xbos xfld 1 t_up user_mention du verdienst nicht genug geld deine meinung ist mir egal du hast mein leben ruiniert bla bla bla: [2]\n",
      "\n",
      " xbos xfld 1 die ehc basel sharks ohne ihren topscorer kyle greentree auskommen wegen einer oberschenkelverletzung t_up url: [1]\n",
      "\n",
      " xbos xfld 1 t_up user_mention kann man leider nicht: [1]\n",
      "\n",
      " xbos xfld 1 food alte adresse moormerland t_up url cafe food alte ksterei: [1]\n",
      "\n",
      " xbos xfld 1 damn it kostprobe vom englischen wetter erkenntnis eine neue jacke muss her: [1]\n",
      "\n",
      " xbos xfld 1 t_up user_mention bitte warten sie bis liebe installiert wird dies kann mehrere leben dauern: [1]\n",
      "\n",
      " xbos xfld 1 freude dass t_up user_mention wieder unter uns weilt welcome back: [1]\n"
     ]
    },
    {
     "name": "stdout",
     "output_type": "stream",
     "text": [
      "\n",
      " xbos xfld 1 letzter einkauf die heimfahrt edeka jens t_up url: [1]\n",
      "\n",
      " xbos xfld 1 weiche kompetenzen erleichtern harten studienalltag t_up url vdi wirtschaft: [1]\n",
      "\n",
      " xbos xfld 1 t_up url: [1]\n",
      "\n",
      " xbos xfld 1 mad schrill crazy fotos sind online viel beim anschauen lg pearls t_up url: [1]\n",
      "\n",
      " xbos xfld 1 t_up user_mention t_up user_mention t_up user_mention immer diese sturen steirer p danke klingt interessant dabei wann auch immer t_up emo_pos: [0]\n",
      "\n",
      " xbos xfld 1 t_up user_mention warum das o_o wiesoo sollte ich lieber schreiend weg rennen o_o: [0]\n",
      "\n",
      " xbos xfld 1 t_up user_mention kalt verregnet naja aquaplaning zum aber erst beim laufen: [2]\n",
      "\n",
      " xbos xfld 1 einsteiger brauche dringend hilfe autor vollmond12345 t_up url: [1]\n",
      "\n",
      " xbos xfld 1 tvonline live eintracht braunschwe eintracht braunschweig gegen fsv frankfurt live streaming t_up url: [1]\n",
      "\n",
      " xbos xfld 1 t_up url challenge accepted hoffentlich bekomm ich das sonntag so hin a dojaku: [0]\n",
      "\n",
      " xbos xfld 1 vom aus helge schneider beim soundcheck funny: [0]\n",
      "\n",
      " xbos xfld 1 einsicht fallen: [1]\n",
      "\n",
      " xbos xfld 1 vorwahlen in new york skandalpolitiker weiner kann nicht mehr werden t_up url: [1]\n",
      "\n",
      " xbos xfld 1 t_up user_mention ne da muss ich wohl flitzen eben t_up emo_pos: [0]\n",
      "\n",
      " xbos xfld 1 gezeichnetes gemaltes portrait musiker bands adoode.de kostenlose kleinanzeigen verweile doc t_up url: [1]\n",
      "\n",
      " xbos xfld 1 t_up user_mention finde raabs naive art nachzufragen super tvduell: [1]\n",
      "\n",
      " xbos xfld 1 schicke oldenburger freren zuchtstute dklbraun wegen aufgabe der zucht guenstig abzugeben vs t_up url: [1]\n",
      "\n",
      " xbos xfld 1 flotter dreier mit geilen schlampen category amateure deutsche pornos gangbang gruppensex unsere videos t_up url: [1]\n",
      "\n",
      " xbos xfld 1 t_up user_mention welcome back ihlas comeback after weeks willkommen ihlas f95 goodtohaveyouback bebou t_up url: [1]\n",
      "\n",
      " xbos xfld 1 t_up url junge welt die linke tageszeitung t_up url: [1]\n",
      "\n",
      " xbos xfld 1 gegen minister t_up url t_up url: [1]\n",
      "\n",
      " xbos xfld 1 war er jahre als ich: [1]\n",
      "\n",
      " xbos xfld 1 t_up user_mention buzzer aalijah einfach nur super geile stimme probesitzen hilft halt haha t_up emo_pos teambosshoss tvog: [0]\n",
      "\n",
      " xbos xfld 1 t_up user_mention vorsicht bei fruchtquark nur pflanzlich da gefahr besteht wg der inhalte s t_up url: [1]\n",
      "\n",
      " xbos xfld 1 kotzreiz bei der neuen kollektion: [2]\n",
      "\n",
      " xbos xfld 1 photoset lesreichenbachfinn not good at running unless away from responsibility an autobiography t_up url: [1]\n",
      "\n",
      " xbos xfld 1 t_up user_mention werde nicht vom fh exmatrikuliert werde nicht mehr zur tu gewechselt bleibe noch an at tu eb: [1]\n",
      "\n",
      " xbos xfld 1 t_up user_mention urban kritisiert penetrante selbstzufriedenheit der bundesregierung t_up url: [1]\n",
      "\n",
      " xbos xfld 1 t_up user_mention jaja kein kommentar dazu senpai muss wohl einen strengeren tagesplan ausarbeiten: [1]\n",
      "\n",
      " xbos xfld 1 t_up user_mention lasst uns ehrlich sein wir sollten uns ehrlich sein wenn wir uns ehrlich ich brauch kein seien t_up emo_pos: [2]\n",
      "\n",
      " xbos xfld 1 t_up user_mention morgen liebe toni: [0]\n",
      "\n",
      " xbos xfld 1 t_up user_mention hab dir auf facebook eine nachricht geschrieben t_up emo_pos: [0]\n",
      "\n",
      " xbos xfld 1 kleinanzeigen schlafzimmer top modern hochglanzfront rot sehr guter zustand in wies t_up url t_up url: [1]\n",
      "\n",
      " xbos xfld 1 t_up user_mention eine halbe million klicks nach einem tag danke t_up emo_pos haltdeinmaul t_up url: [0]\n",
      "\n",
      " xbos xfld 1 t_up user_mention fast egal gut lesbar genug keine serifen sollte passen o: [0]\n",
      "\n",
      " xbos xfld 1 znojmo holt alten bekannten t_up url sport eishockey: [1]\n",
      "\n",
      " xbos xfld 1 feuerwehr hanau abgebrannte kerze brand aus t_up url: [1]\n",
      "\n",
      " xbos xfld 1 robert stieglitz beendet die intensive vorbereitung t_up url: [1]\n",
      "\n",
      " xbos xfld 1 nazis amtsgericht keine strafe rechte rheinmain frankfurter rundschau t_up url via t_up user_mention: [1]\n",
      "\n",
      " xbos xfld 1 t_up user_mention aktuelles aus deutschen museen wurde gerade t_up url topthemen heute von t_up user_mention t_up user_mention: [1]\n",
      "\n",
      " xbos xfld 1 t_up user_mention moin wovon benebelt: [0]\n",
      "\n",
      " xbos xfld 1 praktisch kein unterschied zwischen bahnhofplatz fribourg und de lagos rein: [1]\n",
      "\n",
      " xbos xfld 1 perfekter abschuss eines perfekten wochenendes eulogy uupsididitagain t_up url: [1]\n",
      "\n",
      " xbos xfld 1 einige angry birds titel windows phone gerade kostenlos t_up url: [1]\n",
      "\n",
      " xbos xfld 1 meine rede dauert wohl min und eigentlich fehlt die: [2]\n",
      "\n",
      " xbos xfld 1 t_up user_mention polys nicht der monobeziehung gleichgestellt werden weil grundgesetz t_up url wat: [1]\n",
      "\n",
      " xbos xfld 1 focus onlineartikel mehr als millionen deutsche betroffen zehn allergien t_up user_mention t_up url: [1]\n",
      "\n",
      " xbos xfld 1 t_up user_mention t_up user_mention gut dass du mich erinnerst meine kl borussen haben hunger leider nicht scharf der: [2]\n",
      "\n",
      " xbos xfld 1 t_up user_mention kein witz t_up user_mention sanktionen gegen nordkorea schweiz stoppt skiliftlieferung an kim jong un t_up url: [1]\n",
      "\n",
      " xbos xfld 1 inhaltsleeres erbrechen: [2]\n",
      "\n",
      " xbos xfld 1 t_up user_mention ps4 xbox one ed fries sieht publisher verschwinden t_up url via t_up user_mention xboxone playstation4 konsolen: [1]\n",
      "\n",
      " xbos xfld 1 weisheiten von bosshoss man schenkt einer frau eine rose nicht einen ganzen bescheid thevoice: [1]\n",
      "\n",
      " xbos xfld 1 t_up user_mention ja auch wieder lieber gerne ne haben goodoldtime seufz: [0]\n",
      "\n",
      " xbos xfld 1 havana club stoffbanner selten axstedt original havana club stoffbanner sehr seltenes und rar t_up url: [1]\n",
      "\n",
      " xbos xfld 1 t_up user_mention t_up user_mention bitte spielt heute das neue lied von t_up user_mention storyofmylife: [0]\n",
      "\n",
      " xbos xfld 1 t_up user_mention keinen atombackofen hmm schneller: [1]\n",
      "\n",
      " xbos xfld 1 dlr laser soll weltraumschrott i m erdnahen orbit beseitigen t_up url raumfahrt: [1]\n",
      "\n",
      " xbos xfld 1 nach einer stunde einen einzigen dislike minuten nun dislikes kommt ein neuer spitze: [2]\n",
      "\n",
      " xbos xfld 1 graeger weinkultur rheingau riesling qba dezentem duft: [1]\n",
      "\n",
      " xbos xfld 1 pflege aktuell schaukelsessel sorgt wohlbefinden bei demenzkranken ein t_up url: [1]\n",
      "\n",
      " xbos xfld 1 nikkei nachhaltiger ausbruch update t_up url nikkei indizes: [1]\n",
      "\n",
      " xbos xfld 1 amazon outlet schuhe handtaschen jetzt stark reduziert t_up url: [1]\n",
      "\n",
      " xbos xfld 1 samsung gewinnen gewinnen sie den samsung ue46d8090ys led fernseher der zoll fernseher m t_up url: [1]\n",
      "\n",
      " xbos xfld 1 t_up user_mention tchau t_up emo_pos: [0]\n",
      "\n",
      " xbos xfld 1 zuviel sonne beim t_up user_mention schaar bundestag muss mehr mit geheimdiensten zusammenarbeiten t_up url: [1]\n",
      "\n",
      " xbos xfld 1 aktenzeichen x y dnerkonfi: [0]\n",
      "\n",
      " xbos xfld 1 burials burials a.f.i format audio cd verkaufsrang in musik war gestern t_up url: [1]\n",
      "\n",
      " xbos xfld 1 t_up user_mention ein gutes herz leon de winter verarbeitet seine wut auf den ermordeten filmemacher theo van gogh literarisch t_up url: [1]\n",
      "\n",
      " xbos xfld 1 t_up user_mention geleakte technische details nett ne: [1]\n",
      "\n",
      " xbos xfld 1 t_up user_mention t_up user_mention aber nur wenn du neben deinen jahren arbeit nebenbei eine kapitalgedeckte altersvorsorge aufgebaut hast toi toi: [1]\n",
      "\n",
      " xbos xfld 1 t_up user_mention kein problem dass du erst jetzt antwortest lieber als nie t_up emo_pos: [2]\n",
      "\n",
      " xbos xfld 1 fitbag classic sand handytasche tasche aus original alcantara mit microfaserinnenfutter nokia pure view t_up url: [1]\n",
      "\n",
      " xbos xfld 1 wow die beiden sind so gut t_up url: [0]\n",
      "\n",
      " xbos xfld 1 amgenaktie erfolgreiche erfreulich preis jedoch relativ teuer t_up url aktiencheckde: [1]\n",
      "\n",
      " xbos xfld 1 ewige liebe fredstobaugh schreibt oh sweet lorraine verstorbene frau t_up url ohsweetlorraine youtube: [1]\n",
      "\n",
      " xbos xfld 1 okok fanfictions schreiben und gut aber er booboo nicht bobo sind wir hier bei dj bobo oder was: [1]\n",
      "\n",
      " xbos xfld 1 t_up user_mention: [0]\n",
      "\n",
      " xbos xfld 1 wie lange hab ich das nicht mehr ill catch a grenade for you ohrwurm: [0]\n",
      "\n",
      " xbos xfld 1 t_up user_mention nsa beendet deutsche t_up url nsa snowden prism afd freiheit liberal: [1]\n",
      "\n",
      " xbos xfld 1 t_up user_mention wir die petition aufschrei tv ard zdf angemessen sexismus auf t_up url: [1]\n",
      "\n",
      " xbos xfld 1 t_up user_mention neu in deutschland vevo musikvideos alle was kann vevo t_up url vevo: [1]\n",
      "\n",
      " xbos xfld 1 i m anschluss weitere ebenfalls international t_up user_mention gerpar: [1]\n",
      "\n",
      " xbos xfld 1 t_up user_mention herrliche: [1]\n",
      "\n",
      " xbos xfld 1 ach ich liebe t_up user_mention s tweets: [0]\n",
      "\n",
      " xbos xfld 1 depressionen boreout machen sie kostenlos den bore out test t_up url: [1]\n",
      "\n",
      " xbos xfld 1 neue veranstaltung jahreskonzert mit mosaik und canto vero samstag rieden t_up url ngl: [1]\n",
      "\n",
      " xbos xfld 1 diamant fa graef konkurs meeder ich biete hier i m auftrag eine hochwert t_up url: [1]\n"
     ]
    },
    {
     "name": "stdout",
     "output_type": "stream",
     "text": [
      "\n",
      " xbos xfld 1 t_up user_mention tgok macy kate band ft kurt: [1]\n",
      "\n",
      " xbos xfld 1 puzzle design sparschwein transparent neu t_up url t_up url: [1]\n",
      "\n",
      " xbos xfld 1 t_up user_mention jetzt gehts los t_up emo_pos unser ceo i m t_up user_mention livestream mit t_up user_mention t_up url bloggerhuette livestream: [0]\n",
      "\n",
      " xbos xfld 1 schnelles internet auf dem land t_up url dsl: [1]\n",
      "\n",
      " xbos xfld 1 ist franzferdinand s right thoughts right words right action herrlich retro und kein bisschen lahm t_up emo_pos: [1]\n",
      "\n",
      " xbos xfld 1 t_up user_mention z.b einundzwanzig neununtneunzig: [1]\n",
      "\n",
      " xbos xfld 1 na endlich der a400 m wird ausgeliefert eine tolle maschine wird sicher noch ein exportschlager eads t_up url: [0]\n",
      "\n",
      " xbos xfld 1 endlich da breaking bad methlabor aus lego filed under spielzeug ob t_up url breakingbad breakingbad citizenbrick: [1]\n",
      "\n",
      " xbos xfld 1 t_up user_mention vielen dank folgen meiner tweets mehr infos gerne auch unter dem account unserer agentur t_up user_mention t_up emo_pos vg aus: [0]\n",
      "\n",
      " xbos xfld 1 t_up user_mention das wiederum verstehe ich jetzt nicht: [1]\n",
      "\n",
      " xbos xfld 1 uni wien gegen rechte hetze aller art utl uni wien ruft auf rechtsextremismus keinen platz t_up url apa ots: [1]\n",
      "\n",
      " xbos xfld 1 wein i m kopf get lucky in dauerschlaufe auffe ohren ist ihnen auch schon mal aufgefallen dass daft punk immer ein zu lang ist: [2]\n",
      "\n",
      " xbos xfld 1 ehm oder ab zeit hab am xp zeitlich von um an ab mir eig und liebsten: [1]\n",
      "\n",
      " xbos xfld 1 diet diet diet kein essen kein essen: [0]\n",
      "\n",
      " xbos xfld 1 meine paranoia ist allgemein bekannt snowden brauchte die besten journalisten t_up url via t_up user_mention: [1]\n",
      "\n",
      " xbos xfld 1 t_up user_mention anschluss kaputt: [1]\n",
      "\n",
      " xbos xfld 1 klassischer englischer fcb cl: [1]\n",
      "\n",
      " xbos xfld 1 meine woche auf twitter retweets erhalten neue listings via t_up url: [1]\n",
      "\n",
      " xbos xfld 1 sweatshirt bratwurst schwarz blaue schrift t_up url: [1]\n",
      "\n",
      " xbos xfld 1 hannover underwriter feuer t_up url jobs versicherung: [1]\n",
      "\n",
      " xbos xfld 1 grand theft auto erster dlc angeblich: [0]\n",
      "\n",
      " xbos xfld 1 t_up user_mention zauberhaften ff back tk_wrep 7 t_up user_mention t_up user_mention: [0]\n",
      "\n",
      " xbos xfld 1 t_up user_mention angeblich ja t_up url schau mal da: [1]\n",
      "\n",
      " xbos xfld 1 t_up user_mention beitrag aus t_up user_mention aspekte zu ian mcewans honig t_up url: [1]\n",
      "\n",
      " xbos xfld 1 t_up user_mention ach schatz d wir waren uns doch einig dass ich habe: [0]\n",
      "\n",
      " xbos xfld 1 t_up user_mention you re welcome t_up emo_pos: [0]\n",
      "\n",
      " xbos xfld 1 t_up user_mention fcbayern peps systemrotation pep guardiola philipp lahm einen der intelligentesten t_up url: [1]\n",
      "\n",
      " xbos xfld 1 t_up user_mention danke rupp mit einem scharfen angriff gabst du boris palmer gelegenheit die ihm viel: [1]\n",
      "\n",
      " xbos xfld 1 bernegger der ausgleich gegen t_up user_mention war die belohnung unsere investitionen das war fantastisch fcluzern fclfcsg: [2]\n",
      "\n",
      " xbos xfld 1 t_up user_mention sketchy: [1]\n",
      "\n",
      " xbos xfld 1 altenberge bagger i m vormarsch die ersten bagger sind bereits und haben ihre spuren hinterlassen t_up url: [1]\n",
      "\n",
      " xbos xfld 1 eine million dollar pro tag bruce willis unglaubliche gagenforderung t_up url eine nachrichten n24: [1]\n",
      "\n",
      " xbos xfld 1 t_up user_mention: [0]\n",
      "\n",
      " xbos xfld 1 gesundheitit aok startet umfangreiche ausschreibung t_up url ehealth: [1]\n",
      "\n",
      " xbos xfld 1 rechtsnews ard diskriminierung wegen ethnischer t_up url ogh diskriminierung arbeit: [1]\n",
      "\n",
      " xbos xfld 1 wir lernen deutsch d: [1]\n",
      "\n",
      " xbos xfld 1 die perfekte die zehn bequemsten hotelbetten deutschlands t_up url: [1]\n",
      "\n",
      " xbos xfld 1 t_up user_mention wissenschaftlicher: [0]\n",
      "\n",
      " xbos xfld 1 t_up user_mention werde ich mir irgendwie auch machen klar aber die vorfreude ist erstmal dahin t_up user_mention: [0]\n",
      "\n",
      " xbos xfld 1 telmi dewa politik deutschland und bei internationalen konflikten gemeinsam handeln: [1]\n",
      "\n",
      " xbos xfld 1 t_up user_mention t_up user_mention das war als witz gemeint weil dad bild so aussieht t_up emo_pos: [2]\n",
      "\n",
      " xbos xfld 1 na in wahrheit wollt ihr doch fleisch verbieten komm gebts zu t_up emo_pos veggiday t_up user_mention t_up user_mention: [1]\n",
      "\n",
      " xbos xfld 1 nottingham forest i m capital one cup mit gegen millwall durch derbyshire: [1]\n",
      "\n",
      " xbos xfld 1 t_up user_mention ach t_up url: [1]\n",
      "\n",
      " xbos xfld 1 korrektur ab abends fliegt ryanair wieder frankfurthahncagliari heute nachmittag wurde aber storniert t_up url: [1]\n",
      "\n",
      " xbos xfld 1 warum leute nach einem follow back fragen werde ich wohl nie verstehen: [2]\n",
      "\n",
      " xbos xfld 1 bollerwagen in gutem zustand oldenburg biete einen bollerwagen an kaum benutzt und wird nur als aufbewahr t_up url: [1]\n",
      "\n",
      " xbos xfld 1 preisabschlag preis textilien s.oliver selection damen bolero arm gr t_up url: [1]\n",
      "\n",
      " xbos xfld 1 t_up user_mention ja absolut zum kotzen d: [0]\n",
      "\n",
      " xbos xfld 1 endlich wieder stadionbad t_up user_mention t_up url: [0]\n",
      "\n",
      " xbos xfld 1 t_up user_mention lasagnelasagne auflauf hier t_up emo_pos nen guten: [0]\n",
      "\n",
      " xbos xfld 1 kleines minion t_up url: [1]\n",
      "\n",
      " xbos xfld 1 t_up user_mention no lahm and: [1]\n",
      "\n",
      " xbos xfld 1 t_up user_mention ich eine sozialistische demokratie die sowieso anders aussehen t_up emo_pos: [1]\n",
      "\n",
      " xbos xfld 1 keinen schimmer keule: [2]\n",
      "\n",
      " xbos xfld 1 seria el correspondiente con das macht keinen sinn: [2]\n",
      "\n",
      " xbos xfld 1 t_up user_mention was hast denn gekauft t_up emo_pos: [0]\n",
      "\n",
      " xbos xfld 1 dieser akzent: [1]\n",
      "\n",
      " xbos xfld 1 guter bericht der nn zu unserem datenschutzspaziergang mit durchaus kontroversen kommentaren t_up url: [1]\n",
      "\n",
      " xbos xfld 1 pferdetaxi pferdetransporte ich biete pferdetransporte deutschlandweit falls sie also keinen t_up url: [1]\n",
      "\n",
      " xbos xfld 1 t_up user_mention welch geiler slogan besser gehts nicht evonik top sponsor t_up url: [1]\n",
      "\n",
      " xbos xfld 1 meine liebsten euch noch nen netten abend augen fallen zu nachti hel: [2]\n",
      "\n",
      " xbos xfld 1 gewinner gezogen t_up url: [1]\n",
      "\n",
      " xbos xfld 1 kein cameltoe kein recall dich: [2]\n",
      "\n",
      " xbos xfld 1 schlatter h1 umsatz sinkt um auf chf mio h1 reingewinn chf mio vj mio ausblick: [1]\n",
      "\n",
      " xbos xfld 1 bundesliga kraftlose dortmunder beweisen charakter dortmund das bild hatte symbolchara t_up url football fussball: [1]\n",
      "\n",
      " xbos xfld 1 dagenshockey ziga pance hcboffensive der hcb hat seine offensive mit ziga pance t_up url hockey: [1]\n",
      "\n",
      " xbos xfld 1 t_up user_mention zum hastu ihn nicht getrunkne x: [0]\n",
      "\n",
      " xbos xfld 1 t_up user_mention ok dann nicht: [1]\n",
      "\n",
      " xbos xfld 1 t_up user_mention follback ri t_up url: [1]\n",
      "\n",
      " xbos xfld 1 heute unter photografix fotoprojekte landschaften von dennis reinschauen lohnt sich t_up url: [1]\n",
      "\n",
      " xbos xfld 1 man of the match was sagt ihr zu seiner leistung: [1]\n",
      "\n",
      " xbos xfld 1 lauda wirft jetzt nach schumi auch bawn raus kurze wahnsvorstellung brawn geht zu mclaren holt schumi und der holt seinen titel: [1]\n",
      "\n",
      " xbos xfld 1 neuester move mehrere sportarten niedrig t_up url: [1]\n",
      "\n",
      " xbos xfld 1 t_up user_mention seit monaten geht der mist hier wieder los warum blos: [1]\n",
      "\n",
      " xbos xfld 1 t_up user_mention t_up user_mention ein wahres wort leider was muss denn noch passieren muss angie erst alle vier grand slams gewinnen: [1]\n",
      "\n",
      " xbos xfld 1 wieso ist die box so was soll das wieso so ein risiko eingehen: [1]\n",
      "\n",
      " xbos xfld 1 nebel wunderbar instagram t_up url: [0]\n",
      "\n",
      " xbos xfld 1 lange warten eigentlich nichts youtube: [2]\n",
      "\n",
      " xbos xfld 1 filmstart die oscargewinner dujardin gibt leidenschaftlichen agenten t_up url: [1]\n",
      "\n",
      " xbos xfld 1 t_up user_mention: [0]\n",
      "\n",
      " xbos xfld 1 beim niesen werden alle werden alle ausgesetzt sogar das herz: [1]\n",
      "\n",
      " xbos xfld 1 katie price lag zwei wochen i m krankenhaus katie price kam nicht erst am wochenende sondern schon vor zwei t_up url: [1]\n",
      "\n",
      " xbos xfld 1 unsere goldene hochzeit war super danke das ihr alle hier ward.es war super: [0]\n",
      "\n",
      " xbos xfld 1 suhrkamp soll von einer personen in eine aktiengesellschaft umgewandelt werden wird nun alles gut was passiert t_up url: [1]\n",
      "\n",
      " xbos xfld 1 t_up user_mention lesen zu von mala wintar t_up user_mention t_up url: [1]\n",
      "\n",
      " xbos xfld 1 bundesliga wrap eintracht frankfurt bounce back stuttgart lose again t_up url fan t_up user_mention: [1]\n",
      "\n",
      " xbos xfld 1 friedrich wurde zum iserlohner ernannt reinhold friedrich feuerte am ende eine sensationelle solok t_up url iserlohn: [1]\n",
      "\n",
      " xbos xfld 1 sehen spiel eintracht braunschweig vs borussia dortmund live august gratis bundesliga t_up url: [1]\n",
      "\n",
      " xbos xfld 1 t_up user_mention danke keine ahnung: [1]\n",
      "\n",
      " xbos xfld 1 t_up user_mention schon gesehen hatte eben dein twitter gespakt um erlich zu sein nach dem tweet p hahaa sorry musste einfach p xx: [2]\n",
      "\n",
      " xbos xfld 1 t_up user_mention wie kann der weg aus der eurokrise sozial und demokratisch gestaltet werden jutta aus unserer t_up url: [1]\n",
      "\n",
      " xbos xfld 1 reshared post from leipzig original post from t_up url gplus: [1]\n",
      "\n",
      " xbos xfld 1 arschloch vorhanden: [1]\n",
      "\n",
      " xbos xfld 1 t_up url news infos infosch switzerland femenaktivistin aus haft entlassen neue: [1]\n"
     ]
    },
    {
     "name": "stdout",
     "output_type": "stream",
     "text": [
      "\n",
      " xbos xfld 1 foul: [1]\n",
      "\n",
      " xbos xfld 1 t_up user_mention in deinem zeitfenster sicher nicht aber ab km werde ich gerne nass t_up emo_pos t_up user_mention t_up user_mention: [0]\n",
      "\n",
      " xbos xfld 1 war das eine gute idee amanda bynes wiedersehen mit sherbert sie hat ihn wieder nachdem amanda t_up url: [1]\n",
      "\n",
      " xbos xfld 1 tk_wrep 9 t_up user_mention aus: [1]\n",
      "\n",
      " xbos xfld 1 t_up user_mention um dann direkt stefan zu informieren d: [1]\n",
      "\n",
      " xbos xfld 1 t_up user_mention glaub ich xd sind echt not bad t__t: [0]\n",
      "\n",
      " xbos xfld 1 t_up user_mention eu verbietet staubsauger mit mehr als watt leistung die eu verpasst st t_up url wirtschaft news: [1]\n",
      "\n",
      " xbos xfld 1 t_up user_mention jepp samu haber von sunrise avenue hab den male live gesehen tochter war fan: [1]\n",
      "\n",
      " xbos xfld 1 t_up user_mention das klingt richtig gut was eine hast du denn u v u: [0]\n",
      "\n",
      " xbos xfld 1 alkohol jetzt mehr alkohol sofort: [1]\n",
      "\n",
      " xbos xfld 1 t_up user_mention guten morgen tag i m nsuprozess gleich kommt eine wichtige belastungszeugin die laut anklage am tatort in: [1]\n",
      "\n",
      " xbos xfld 1 lieben vermissen weinen springen sterben t_up url: [0]\n",
      "\n",
      " xbos xfld 1 bildplus inhalt kevinprince boateng bayern sind gru t_up url bayern bildplus boateng diese gruselig: [1]\n",
      "\n",
      " xbos xfld 1 heimarbeit alle die am pc geld verdienen gratis info t_up url: [1]\n",
      "\n",
      " xbos xfld 1 fussball initiative pyroausschreitungen t_up url: [1]\n",
      "\n",
      " xbos xfld 1 nach oblivion nun autorennen cruise kosinski planen go like hell t_up url: [1]\n",
      "\n",
      " xbos xfld 1 mobil t_up url: [1]\n",
      "\n",
      " xbos xfld 1 stand der dinge hahn kein ei auslauf wird morgen fertig polly keinerlei mehr: [1]\n",
      "\n",
      " xbos xfld 1 t_up user_mention immer wieder gerne gefragt auf familienfesten wann wollt ihr eigentlich mal kinder bekommen wir sammeln antworten: [2]\n",
      "\n",
      " xbos xfld 1 eltern fragen schon warum ich lache: [0]\n",
      "\n",
      " xbos xfld 1 t_up user_mention duu doch: [1]\n",
      "\n",
      " xbos xfld 1 unternehmen kunden mit einem goodie locken wenn er mehrmals da war twnr1: [0]\n",
      "\n",
      " xbos xfld 1 angriff auf amazon ebay will waren noch am selben tag ausliefern t_up url amazon angriff ausliefern ebay noch: [1]\n",
      "\n",
      " xbos xfld 1 t_up user_mention okay t_up user_mention machse einfach eu: [2]\n"
     ]
    }
   ],
   "source": [
    "# perform manual prediction on the validation set \n",
    "tok_val = np.load(CLAS_PATH/'tmp'/'tok_val.npy')\n",
    "learn.load('clas_2')\n",
    "m = learn.model\n",
    "#set batch size to 1\n",
    "m[0].bs=1\n",
    "#turn off dropout\n",
    "i = 0\n",
    "results = []\n",
    "while i < len(tok_val):\n",
    "    #print(i)\n",
    "    sen = ' '.join(tok_val[i])\n",
    "    i+=1\n",
    "    m.eval()\n",
    "    #reset hidden state\n",
    "    m.reset()\n",
    "    idxs = np.array([[stoi[p] for p in sen.strip().split(\" \")]])\n",
    "    idxs = np.transpose(idxs)\n",
    "    #get predictions from model\n",
    "    p = m(VV(idxs))\n",
    "    print(sen + ': ' + str(to_np(torch.topk(p[0],1)[1])[0]))\n",
    "    # append classification to list of results for validation\n",
    "    results.append(torch.topk(p[0],1)[1].data.tolist()[0])"
   ]
  },
  {
   "cell_type": "code",
   "execution_count": 40,
   "metadata": {},
   "outputs": [
    {
     "name": "stdout",
     "output_type": "stream",
     "text": [
      "numeric representation: [[ 1752  3317   163     0    95  4386    86  1479    51  2322   159 46691  4499    41]]\n",
      "guten morgen schon novemberlicht da mag man gar nicht glauben was gestern wetter war: [2]\n"
     ]
    }
   ],
   "source": [
    "# single prediction\n",
    "learn.load('clas_2')\n",
    "m = learn.model\n",
    "#set batch size to 1\n",
    "m[0].bs=1\n",
    "#turn off dropout\n",
    "m.eval()\n",
    "#reset hidden state\n",
    "m.reset()  \n",
    "\n",
    "#sentence to be classified\n",
    "sen = \"guten morgen schon novemberlicht da mag man gar nicht glauben was gestern wetter war\"\n",
    "idxs = np.array([[stoi[p] for p in sen.strip().split(\" \")]])\n",
    "\n",
    "#converting sentence into numerical representation\n",
    "print('numeric representation: ' + str(idxs))\n",
    "idxs = np.transpose(idxs)\n",
    "\n",
    "#get predictions from model\n",
    "p = m(VV(idxs))\n",
    "print(sen + ': ' + str(to_np(torch.topk(p[0],1)[1])[0]))"
   ]
  },
  {
   "cell_type": "code",
   "execution_count": 43,
   "metadata": {},
   "outputs": [
    {
     "name": "stdout",
     "output_type": "stream",
     "text": [
      "748\n",
      "748\n"
     ]
    }
   ],
   "source": [
    "# val_labels are the labels from the dataset\n",
    "print(len(val_labels))\n",
    "# results are the predicted results\n",
    "print(len(results))"
   ]
  },
  {
   "cell_type": "code",
   "execution_count": 44,
   "metadata": {},
   "outputs": [],
   "source": [
    "preds = np.asarray(results)"
   ]
  },
  {
   "cell_type": "code",
   "execution_count": 45,
   "metadata": {},
   "outputs": [
    {
     "data": {
      "text/plain": [
       "0.6226391237428409"
      ]
     },
     "execution_count": 45,
     "metadata": {},
     "output_type": "execute_result"
    }
   ],
   "source": [
    "from sklearn.metrics import *\n",
    "# f1 score for all three classes\n",
    "f1_score(val_labels, preds, average='weighted')"
   ]
  },
  {
   "cell_type": "code",
   "execution_count": 46,
   "metadata": {},
   "outputs": [
    {
     "name": "stdout",
     "output_type": "stream",
     "text": [
      "             precision    recall  f1-score   support\n",
      "\n",
      "          0       0.42      0.50      0.46       158\n",
      "          1       0.75      0.81      0.78       457\n",
      "          2       0.40      0.22      0.28       133\n",
      "\n",
      "avg / total       0.62      0.64      0.62       748\n",
      "\n"
     ]
    }
   ],
   "source": [
    "print(classification_report(val_labels, preds))"
   ]
  },
  {
   "cell_type": "code",
   "execution_count": 47,
   "metadata": {},
   "outputs": [
    {
     "name": "stdout",
     "output_type": "stream",
     "text": [
      "[[ 79  61  18]\n",
      " [ 63 368  26]\n",
      " [ 45  59  29]]\n"
     ]
    }
   ],
   "source": [
    "print(confusion_matrix(val_labels, preds))"
   ]
  },
  {
   "cell_type": "code",
   "execution_count": null,
   "metadata": {},
   "outputs": [],
   "source": []
  }
 ],
 "metadata": {
  "kernelspec": {
   "display_name": "Python 3",
   "language": "python",
   "name": "python3"
  },
  "language_info": {
   "codemirror_mode": {
    "name": "ipython",
    "version": 3
   },
   "file_extension": ".py",
   "mimetype": "text/x-python",
   "name": "python",
   "nbconvert_exporter": "python",
   "pygments_lexer": "ipython3",
   "version": "3.6.5"
  }
 },
 "nbformat": 4,
 "nbformat_minor": 2
}
